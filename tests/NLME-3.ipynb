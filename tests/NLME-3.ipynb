{
 "cells": [
  {
   "cell_type": "code",
   "execution_count": null,
   "id": "turned-childhood",
   "metadata": {},
   "outputs": [],
   "source": [
    "Run model - manually adjust dependentVar number [[*]]\n",
    "model <- lme(as.formula(paste(dependentVar[[1]], \"~ win_smri_vol_scs_intracranialv.z+\n",
    "                                                interview_age.z+ sex+ \n",
    "                                                race_ethnicity+ \n",
    "                                                puberty+\n",
    "                                                demo_prnt_ed_v2+\n",
    "                                                demo_comb_income_v2+\n",
    "                                                famhx_ss_momdad_dprs_p+ famhx_ss_momdad_addiction+ famhx_ss_momdad_ma_p+ \n",
    "                                                famhx_ss_momdad_nrv_p+\n",
    "                                                famhx_ss_momdad_dprs_p:famhx_ss_momdad_addiction+\n",
    "                                                famhx_ss_momdad_dprs_p:famhx_ss_momdad_ma_p+ famhx_ss_momdad_addiction:famhx_ss_momdad_ma_p+\n",
    "                                                famhx_ss_momdad_dprs_p:famhx_ss_momdad_nrv_p+\n",
    "                                                famhx_ss_momdad_addiction:famhx_ss_momdad_nrv_p+\n",
    "                                                famhx_ss_momdad_ma_p:famhx_ss_momdad_nrv_p+\n",
    "                                                famhx_ss_momdad_dprs_p:famhx_ss_momdad_addiction:famhx_ss_momdad_ma_p+\n",
    "                                                famhx_ss_momdad_dprs_p:famhx_ss_momdad_addiction:famhx_ss_momdad_nrv_p+\n",
    "                                                famhx_ss_momdad_addiction:famhx_ss_momdad_ma_p:famhx_ss_momdad_nrv_p\")), \n",
    "                               random = ~1|mri_info_deviceserialnumber/rel_family_id, data = df4, na.action=na.omit, control=list(opt=\"optim\"))\n",
    "\n",
    "summary(model)"
   ]
  },
  {
   "cell_type": "code",
   "execution_count": null,
   "id": "difficult-lincoln",
   "metadata": {},
   "outputs": [],
   "source": [
    "# Define dependent var\n",
    "dependentVar = colnames(df4)[grepl(\"^win_smri_vol_scs.*.z$\", colnames(df4)) & !grepl(\"smri_vol_scs_intracranialv\", colnames(df4))]\n",
    "no.dependentVar = length(dependentVar)\n",
    "\n",
    "m <- as.list(1:no.dependentVar)\n",
    "ptab <- data.frame(matrix(NA, nrow = 52, ncol = 5))\n",
    "\n",
    "names(m) <- dependentVar\n",
    "\n",
    "#for loop\n",
    "    for (i in 1:no.dependentVar) {\n",
    "        print(paste(\"Running gamm4 for dependent variable:\", dependentVar[i], \"which is\", i, \"out of\", no.dependentVar))\n",
    "    \n",
    "        # Run model - manually adjust dependentVar number [[*]]\n",
    "        m[[i]] <- lme(as.formula(paste(dependentVar[[i]], \"~ win_smri_vol_scs_intracranialv.z+\n",
    "                                                interview_age.z+ sex+ \n",
    "                                                race_ethnicity+ \n",
    "                                                pds_p_ss_female_order+\n",
    "                                                demo_prnt_ed_v2_order+\n",
    "                                                demo_comb_income_v2_order+\n",
    "                                                famhx_ss_momdad_dprs_p+ famhx_ss_momdad_addiction+ famhx_ss_momdad_ma_p+ \n",
    "                                                famhx_ss_momdad_nrv_p+\n",
    "                                                famhx_ss_momdad_dprs_p:famhx_ss_momdad_addiction+\n",
    "                                                famhx_ss_momdad_dprs_p:famhx_ss_momdad_ma_p+ famhx_ss_momdad_addiction:famhx_ss_momdad_ma_p+\n",
    "                                                famhx_ss_momdad_dprs_p:famhx_ss_momdad_nrv_p+\n",
    "                                                famhx_ss_momdad_addiction:famhx_ss_momdad_nrv_p+\n",
    "                                                famhx_ss_momdad_ma_p:famhx_ss_momdad_nrv_p+\n",
    "                                                famhx_ss_momdad_dprs_p:famhx_ss_momdad_addiction:famhx_ss_momdad_ma_p+\n",
    "                                                famhx_ss_momdad_dprs_p:famhx_ss_momdad_addiction:famhx_ss_momdad_nrv_p+\n",
    "                                                famhx_ss_momdad_addiction:famhx_ss_momdad_ma_p:famhx_ss_momdad_nrv_p\")), \n",
    "                               random = ~1|mri_info_deviceserialnumber/rel_family_id, data = df4, na.action=na.omit, control=list(opt=\"optim\"))"
   ]
  },
  {
   "cell_type": "code",
   "execution_count": null,
   "id": "alive-incident",
   "metadata": {},
   "outputs": [],
   "source": [
    "#fixed effects in table format       \n",
    "        ptab[[i]]= as.data.frame(summary(m[[i]]$gam)$p.table)\n",
    "        ptab[[i]]$sig[ptab[[i]]$`Pr(>|t|)` < 0.1] = \".\"\n",
    "        ptab[[i]]$sig[ptab[[i]]$`Pr(>|t|)` < 0.05] = \"*\"\n",
    "        ptab[[i]]$sig[ptab[[i]]$`Pr(>|t|)` < 0.01] = \"**\"\n",
    "        ptab[[i]]$sig[ptab[[i]]$`Pr(>|t|)` < 0.001] = \"***\"\n",
    "        ptab[[i]]$`Pr(>|t|)` = round(ptab[[i]]$`Pr(>|t|)`,7)\n",
    "        ptab[[i]]$`Pr(>|t|)`[ptab[[i]]$`Pr(>|t|)` < 0.000001] = \"<1e-6\"\n",
    "}"
   ]
  }
 ],
 "metadata": {
  "kernelspec": {
   "display_name": "R",
   "language": "R",
   "name": "ir"
  },
  "language_info": {
   "codemirror_mode": "r",
   "file_extension": ".r",
   "mimetype": "text/x-r-source",
   "name": "R",
   "pygments_lexer": "r",
   "version": "4.0.3"
  }
 },
 "nbformat": 4,
 "nbformat_minor": 5
}
