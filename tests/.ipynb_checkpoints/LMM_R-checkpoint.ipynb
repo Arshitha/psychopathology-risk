{
 "cells": [
  {
   "cell_type": "markdown",
   "id": "portuguese-woman",
   "metadata": {},
   "source": [
    "# Project - Structural brain volumes in children with parental psychopathology\n",
    "### Code for the linear mixed models was written by HH "
   ]
  },
  {
   "cell_type": "markdown",
   "id": "integral-research",
   "metadata": {},
   "source": [
    "### Install and load packages"
   ]
  },
  {
   "cell_type": "code",
   "execution_count": 19,
   "id": "martial-grave",
   "metadata": {},
   "outputs": [
    {
     "name": "stderr",
     "output_type": "stream",
     "text": [
      "Updating HTML index of packages in '.Library'\n",
      "\n",
      "Making 'packages.html' ...\n",
      " done\n",
      "\n",
      "Updating HTML index of packages in '.Library'\n",
      "\n",
      "Making 'packages.html' ...\n",
      " done\n",
      "\n",
      "Updating HTML index of packages in '.Library'\n",
      "\n",
      "Making 'packages.html' ...\n",
      " done\n",
      "\n",
      "Updating HTML index of packages in '.Library'\n",
      "\n",
      "Making 'packages.html' ...\n",
      " done\n",
      "\n",
      "Updating HTML index of packages in '.Library'\n",
      "\n",
      "Making 'packages.html' ...\n",
      " done\n",
      "\n",
      "Updating HTML index of packages in '.Library'\n",
      "\n",
      "Making 'packages.html' ...\n",
      " done\n",
      "\n"
     ]
    }
   ],
   "source": [
    "#install packages - only required the first time\n",
    "install.packages(\"lme4\")        #linear mixed model\n",
    "install.packages(\"EMAtools\")    #lme.dscore to calculate d scores from an lme4 object\n",
    "install.packages(\"naniar\")      #replace values with NA\n",
    "install.packages(\"jtools\")      #table lme results\n",
    "install.packages(\"ggplot2\")     #plots\n",
    "#install.packages(\"ggeffects\")   #plot interaction effections\n",
    "#install.packages(\"sjmisc\")\n",
    "install.packages(\"sjPlot\")"
   ]
  },
  {
   "cell_type": "code",
   "execution_count": 20,
   "id": "clinical-roots",
   "metadata": {},
   "outputs": [
    {
     "name": "stderr",
     "output_type": "stream",
     "text": [
      "Loading required package: Matrix\n",
      "\n"
     ]
    }
   ],
   "source": [
    "#load libraries\n",
    "library(\"lme4\")\n",
    "library(\"EMAtools\")\n",
    "library(\"naniar\")\n",
    "library(\"jtools\")\n",
    "library(\"sjPlot\")\n",
    "library(\"ggplot2\")"
   ]
  },
  {
   "cell_type": "markdown",
   "id": "consistent-dublin",
   "metadata": {},
   "source": [
    "### Set working directory and load csv file "
   ]
  },
  {
   "cell_type": "code",
   "execution_count": 21,
   "id": "everyday-sensitivity",
   "metadata": {},
   "outputs": [
    {
     "data": {
      "text/html": [
       "<table class=\"dataframe\">\n",
       "<caption>A data.frame: 5 × 48</caption>\n",
       "<thead>\n",
       "\t<tr><th></th><th scope=col>subjectkey</th><th scope=col>interview_date</th><th scope=col>interview_age</th><th scope=col>sex</th><th scope=col>eventname</th><th scope=col>rel_family_id</th><th scope=col>acs_raked_propensity_score</th><th scope=col>race_ethnicity</th><th scope=col>mri_info_deviceserialnumber</th><th scope=col>site_id_l</th><th scope=col>⋯</th><th scope=col>famhx_ss_parent_nrv_p</th><th scope=col>demo_comb_income_v2</th><th scope=col>demo_prnt_ed_v2</th><th scope=col>famhx_ss_moth_addiction</th><th scope=col>famhx_ss_fath_addiction</th><th scope=col>famhx_ss_momdad_addiction</th><th scope=col>famhx_ss_parent_addiction_bin</th><th scope=col>famhx_ss_parent_dprs_bin</th><th scope=col>famhx_ss_parent_ma_bin</th><th scope=col>famhx_ss_parent_nrv_bin</th></tr>\n",
       "\t<tr><th></th><th scope=col>&lt;chr&gt;</th><th scope=col>&lt;chr&gt;</th><th scope=col>&lt;int&gt;</th><th scope=col>&lt;chr&gt;</th><th scope=col>&lt;chr&gt;</th><th scope=col>&lt;dbl&gt;</th><th scope=col>&lt;dbl&gt;</th><th scope=col>&lt;dbl&gt;</th><th scope=col>&lt;chr&gt;</th><th scope=col>&lt;chr&gt;</th><th scope=col>⋯</th><th scope=col>&lt;dbl&gt;</th><th scope=col>&lt;dbl&gt;</th><th scope=col>&lt;int&gt;</th><th scope=col>&lt;dbl&gt;</th><th scope=col>&lt;dbl&gt;</th><th scope=col>&lt;dbl&gt;</th><th scope=col>&lt;dbl&gt;</th><th scope=col>&lt;dbl&gt;</th><th scope=col>&lt;dbl&gt;</th><th scope=col>&lt;dbl&gt;</th></tr>\n",
       "</thead>\n",
       "<tbody>\n",
       "\t<tr><th scope=row>1</th><td>NDAR_INV00LJVZK2</td><td>08/19/2017</td><td>121</td><td>M</td><td>baseline_year_1_arm_1</td><td> 8315</td><td>616.1476</td><td>5</td><td>HASH03db707f</td><td>site11</td><td>⋯</td><td>0</td><td> 1</td><td>11</td><td>0</td><td>0</td><td>0</td><td>0</td><td>0</td><td>0</td><td>0</td></tr>\n",
       "\t<tr><th scope=row>2</th><td>NDAR_INV01NAYMZH</td><td>08/09/2017</td><td>129</td><td>M</td><td>baseline_year_1_arm_1</td><td>  862</td><td>425.6335</td><td>1</td><td>HASH3935c89e</td><td>site16</td><td>⋯</td><td>0</td><td> 9</td><td>15</td><td>1</td><td>0</td><td>1</td><td>0</td><td>0</td><td>0</td><td>0</td></tr>\n",
       "\t<tr><th scope=row>3</th><td>NDAR_INV01Z8HAPV</td><td>11/19/2017</td><td>122</td><td>F</td><td>baseline_year_1_arm_1</td><td>11328</td><td>321.6282</td><td>1</td><td>HASH1314a204</td><td>site02</td><td>⋯</td><td>0</td><td>10</td><td>19</td><td>0</td><td>0</td><td>0</td><td>0</td><td>0</td><td>0</td><td>0</td></tr>\n",
       "\t<tr><th scope=row>4</th><td>NDAR_INV02RCED7D</td><td>05/09/2017</td><td>122</td><td>M</td><td>baseline_year_1_arm_1</td><td> 8783</td><td>428.3225</td><td>1</td><td>HASH96a0c182</td><td>site06</td><td>⋯</td><td>2</td><td> 9</td><td>11</td><td>0</td><td>0</td><td>0</td><td>0</td><td>0</td><td>0</td><td>0</td></tr>\n",
       "\t<tr><th scope=row>5</th><td>NDAR_INV030X9ZNH</td><td>06/11/2018</td><td>126</td><td>F</td><td>baseline_year_1_arm_1</td><td> 8316</td><td>958.7208</td><td>1</td><td>HASH03db707f</td><td>site11</td><td>⋯</td><td>0</td><td> 8</td><td>19</td><td>0</td><td>0</td><td>0</td><td>0</td><td>0</td><td>0</td><td>0</td></tr>\n",
       "</tbody>\n",
       "</table>\n"
      ],
      "text/latex": [
       "A data.frame: 5 × 48\n",
       "\\begin{tabular}{r|lllllllllllllllllllll}\n",
       "  & subjectkey & interview\\_date & interview\\_age & sex & eventname & rel\\_family\\_id & acs\\_raked\\_propensity\\_score & race\\_ethnicity & mri\\_info\\_deviceserialnumber & site\\_id\\_l & ⋯ & famhx\\_ss\\_parent\\_nrv\\_p & demo\\_comb\\_income\\_v2 & demo\\_prnt\\_ed\\_v2 & famhx\\_ss\\_moth\\_addiction & famhx\\_ss\\_fath\\_addiction & famhx\\_ss\\_momdad\\_addiction & famhx\\_ss\\_parent\\_addiction\\_bin & famhx\\_ss\\_parent\\_dprs\\_bin & famhx\\_ss\\_parent\\_ma\\_bin & famhx\\_ss\\_parent\\_nrv\\_bin\\\\\n",
       "  & <chr> & <chr> & <int> & <chr> & <chr> & <dbl> & <dbl> & <dbl> & <chr> & <chr> & ⋯ & <dbl> & <dbl> & <int> & <dbl> & <dbl> & <dbl> & <dbl> & <dbl> & <dbl> & <dbl>\\\\\n",
       "\\hline\n",
       "\t1 & NDAR\\_INV00LJVZK2 & 08/19/2017 & 121 & M & baseline\\_year\\_1\\_arm\\_1 &  8315 & 616.1476 & 5 & HASH03db707f & site11 & ⋯ & 0 &  1 & 11 & 0 & 0 & 0 & 0 & 0 & 0 & 0\\\\\n",
       "\t2 & NDAR\\_INV01NAYMZH & 08/09/2017 & 129 & M & baseline\\_year\\_1\\_arm\\_1 &   862 & 425.6335 & 1 & HASH3935c89e & site16 & ⋯ & 0 &  9 & 15 & 1 & 0 & 1 & 0 & 0 & 0 & 0\\\\\n",
       "\t3 & NDAR\\_INV01Z8HAPV & 11/19/2017 & 122 & F & baseline\\_year\\_1\\_arm\\_1 & 11328 & 321.6282 & 1 & HASH1314a204 & site02 & ⋯ & 0 & 10 & 19 & 0 & 0 & 0 & 0 & 0 & 0 & 0\\\\\n",
       "\t4 & NDAR\\_INV02RCED7D & 05/09/2017 & 122 & M & baseline\\_year\\_1\\_arm\\_1 &  8783 & 428.3225 & 1 & HASH96a0c182 & site06 & ⋯ & 2 &  9 & 11 & 0 & 0 & 0 & 0 & 0 & 0 & 0\\\\\n",
       "\t5 & NDAR\\_INV030X9ZNH & 06/11/2018 & 126 & F & baseline\\_year\\_1\\_arm\\_1 &  8316 & 958.7208 & 1 & HASH03db707f & site11 & ⋯ & 0 &  8 & 19 & 0 & 0 & 0 & 0 & 0 & 0 & 0\\\\\n",
       "\\end{tabular}\n"
      ],
      "text/markdown": [
       "\n",
       "A data.frame: 5 × 48\n",
       "\n",
       "| <!--/--> | subjectkey &lt;chr&gt; | interview_date &lt;chr&gt; | interview_age &lt;int&gt; | sex &lt;chr&gt; | eventname &lt;chr&gt; | rel_family_id &lt;dbl&gt; | acs_raked_propensity_score &lt;dbl&gt; | race_ethnicity &lt;dbl&gt; | mri_info_deviceserialnumber &lt;chr&gt; | site_id_l &lt;chr&gt; | ⋯ ⋯ | famhx_ss_parent_nrv_p &lt;dbl&gt; | demo_comb_income_v2 &lt;dbl&gt; | demo_prnt_ed_v2 &lt;int&gt; | famhx_ss_moth_addiction &lt;dbl&gt; | famhx_ss_fath_addiction &lt;dbl&gt; | famhx_ss_momdad_addiction &lt;dbl&gt; | famhx_ss_parent_addiction_bin &lt;dbl&gt; | famhx_ss_parent_dprs_bin &lt;dbl&gt; | famhx_ss_parent_ma_bin &lt;dbl&gt; | famhx_ss_parent_nrv_bin &lt;dbl&gt; |\n",
       "|---|---|---|---|---|---|---|---|---|---|---|---|---|---|---|---|---|---|---|---|---|---|\n",
       "| 1 | NDAR_INV00LJVZK2 | 08/19/2017 | 121 | M | baseline_year_1_arm_1 |  8315 | 616.1476 | 5 | HASH03db707f | site11 | ⋯ | 0 |  1 | 11 | 0 | 0 | 0 | 0 | 0 | 0 | 0 |\n",
       "| 2 | NDAR_INV01NAYMZH | 08/09/2017 | 129 | M | baseline_year_1_arm_1 |   862 | 425.6335 | 1 | HASH3935c89e | site16 | ⋯ | 0 |  9 | 15 | 1 | 0 | 1 | 0 | 0 | 0 | 0 |\n",
       "| 3 | NDAR_INV01Z8HAPV | 11/19/2017 | 122 | F | baseline_year_1_arm_1 | 11328 | 321.6282 | 1 | HASH1314a204 | site02 | ⋯ | 0 | 10 | 19 | 0 | 0 | 0 | 0 | 0 | 0 | 0 |\n",
       "| 4 | NDAR_INV02RCED7D | 05/09/2017 | 122 | M | baseline_year_1_arm_1 |  8783 | 428.3225 | 1 | HASH96a0c182 | site06 | ⋯ | 2 |  9 | 11 | 0 | 0 | 0 | 0 | 0 | 0 | 0 |\n",
       "| 5 | NDAR_INV030X9ZNH | 06/11/2018 | 126 | F | baseline_year_1_arm_1 |  8316 | 958.7208 | 1 | HASH03db707f | site11 | ⋯ | 0 |  8 | 19 | 0 | 0 | 0 | 0 | 0 | 0 | 0 |\n",
       "\n"
      ],
      "text/plain": [
       "  subjectkey       interview_date interview_age sex eventname            \n",
       "1 NDAR_INV00LJVZK2 08/19/2017     121           M   baseline_year_1_arm_1\n",
       "2 NDAR_INV01NAYMZH 08/09/2017     129           M   baseline_year_1_arm_1\n",
       "3 NDAR_INV01Z8HAPV 11/19/2017     122           F   baseline_year_1_arm_1\n",
       "4 NDAR_INV02RCED7D 05/09/2017     122           M   baseline_year_1_arm_1\n",
       "5 NDAR_INV030X9ZNH 06/11/2018     126           F   baseline_year_1_arm_1\n",
       "  rel_family_id acs_raked_propensity_score race_ethnicity\n",
       "1  8315         616.1476                   5             \n",
       "2   862         425.6335                   1             \n",
       "3 11328         321.6282                   1             \n",
       "4  8783         428.3225                   1             \n",
       "5  8316         958.7208                   1             \n",
       "  mri_info_deviceserialnumber site_id_l ⋯ famhx_ss_parent_nrv_p\n",
       "1 HASH03db707f                site11    ⋯ 0                    \n",
       "2 HASH3935c89e                site16    ⋯ 0                    \n",
       "3 HASH1314a204                site02    ⋯ 0                    \n",
       "4 HASH96a0c182                site06    ⋯ 2                    \n",
       "5 HASH03db707f                site11    ⋯ 0                    \n",
       "  demo_comb_income_v2 demo_prnt_ed_v2 famhx_ss_moth_addiction\n",
       "1  1                  11              0                      \n",
       "2  9                  15              1                      \n",
       "3 10                  19              0                      \n",
       "4  9                  11              0                      \n",
       "5  8                  19              0                      \n",
       "  famhx_ss_fath_addiction famhx_ss_momdad_addiction\n",
       "1 0                       0                        \n",
       "2 0                       1                        \n",
       "3 0                       0                        \n",
       "4 0                       0                        \n",
       "5 0                       0                        \n",
       "  famhx_ss_parent_addiction_bin famhx_ss_parent_dprs_bin famhx_ss_parent_ma_bin\n",
       "1 0                             0                        0                     \n",
       "2 0                             0                        0                     \n",
       "3 0                             0                        0                     \n",
       "4 0                             0                        0                     \n",
       "5 0                             0                        0                     \n",
       "  famhx_ss_parent_nrv_bin\n",
       "1 0                      \n",
       "2 0                      \n",
       "3 0                      \n",
       "4 0                      \n",
       "5 0                      "
      ]
     },
     "metadata": {},
     "output_type": "display_data"
    },
    {
     "data": {
      "text/html": [
       "<style>\n",
       ".list-inline {list-style: none; margin:0; padding: 0}\n",
       ".list-inline>li {display: inline-block}\n",
       ".list-inline>li:not(:last-child)::after {content: \"\\00b7\"; padding: 0 .5ex}\n",
       "</style>\n",
       "<ol class=list-inline><li>'subjectkey'</li><li>'interview_date'</li><li>'interview_age'</li><li>'sex'</li><li>'eventname'</li><li>'rel_family_id'</li><li>'acs_raked_propensity_score'</li><li>'race_ethnicity'</li><li>'mri_info_deviceserialnumber'</li><li>'site_id_l'</li><li>'pds_p_ss_female_category'</li><li>'smri_vol_scs_aal'</li><li>'smri_vol_scs_aar'</li><li>'smri_vol_scs_amygdalalh'</li><li>'smri_vol_scs_amygdalarh'</li><li>'smri_vol_scs_caudatelh'</li><li>'smri_vol_scs_caudaterh'</li><li>'smri_vol_scs_hpuslh'</li><li>'smri_vol_scs_hpusrh'</li><li>'smri_vol_scs_pallidumlh'</li><li>'smri_vol_scs_pallidumrh'</li><li>'smri_vol_scs_putamenlh'</li><li>'smri_vol_scs_putamenrh'</li><li>'smri_vol_scs_tplh'</li><li>'smri_vol_scs_tprh'</li><li>'smri_vol_scs_intracranialv'</li><li>'smri_vol_scs_subcorticalgv'</li><li>'famhx_ss_moth_prob_dprs_p'</li><li>'famhx_ss_moth_prob_ma_p'</li><li>'famhx_ss_moth_prob_nrv_p'</li><li>'famhx_ss_fath_prob_dprs_p'</li><li>'famhx_ss_fath_prob_ma_p'</li><li>'famhx_ss_fath_prob_nrv_p'</li><li>'famhx_ss_momdad_dprs_p'</li><li>'famhx_ss_momdad_ma_p'</li><li>'famhx_ss_momdad_nrv_p'</li><li>'famhx_ss_parent_dprs_p'</li><li>'famhx_ss_parent_ma_p'</li><li>'famhx_ss_parent_nrv_p'</li><li>'demo_comb_income_v2'</li><li>'demo_prnt_ed_v2'</li><li>'famhx_ss_moth_addiction'</li><li>'famhx_ss_fath_addiction'</li><li>'famhx_ss_momdad_addiction'</li><li>'famhx_ss_parent_addiction_bin'</li><li>'famhx_ss_parent_dprs_bin'</li><li>'famhx_ss_parent_ma_bin'</li><li>'famhx_ss_parent_nrv_bin'</li></ol>\n"
      ],
      "text/latex": [
       "\\begin{enumerate*}\n",
       "\\item 'subjectkey'\n",
       "\\item 'interview\\_date'\n",
       "\\item 'interview\\_age'\n",
       "\\item 'sex'\n",
       "\\item 'eventname'\n",
       "\\item 'rel\\_family\\_id'\n",
       "\\item 'acs\\_raked\\_propensity\\_score'\n",
       "\\item 'race\\_ethnicity'\n",
       "\\item 'mri\\_info\\_deviceserialnumber'\n",
       "\\item 'site\\_id\\_l'\n",
       "\\item 'pds\\_p\\_ss\\_female\\_category'\n",
       "\\item 'smri\\_vol\\_scs\\_aal'\n",
       "\\item 'smri\\_vol\\_scs\\_aar'\n",
       "\\item 'smri\\_vol\\_scs\\_amygdalalh'\n",
       "\\item 'smri\\_vol\\_scs\\_amygdalarh'\n",
       "\\item 'smri\\_vol\\_scs\\_caudatelh'\n",
       "\\item 'smri\\_vol\\_scs\\_caudaterh'\n",
       "\\item 'smri\\_vol\\_scs\\_hpuslh'\n",
       "\\item 'smri\\_vol\\_scs\\_hpusrh'\n",
       "\\item 'smri\\_vol\\_scs\\_pallidumlh'\n",
       "\\item 'smri\\_vol\\_scs\\_pallidumrh'\n",
       "\\item 'smri\\_vol\\_scs\\_putamenlh'\n",
       "\\item 'smri\\_vol\\_scs\\_putamenrh'\n",
       "\\item 'smri\\_vol\\_scs\\_tplh'\n",
       "\\item 'smri\\_vol\\_scs\\_tprh'\n",
       "\\item 'smri\\_vol\\_scs\\_intracranialv'\n",
       "\\item 'smri\\_vol\\_scs\\_subcorticalgv'\n",
       "\\item 'famhx\\_ss\\_moth\\_prob\\_dprs\\_p'\n",
       "\\item 'famhx\\_ss\\_moth\\_prob\\_ma\\_p'\n",
       "\\item 'famhx\\_ss\\_moth\\_prob\\_nrv\\_p'\n",
       "\\item 'famhx\\_ss\\_fath\\_prob\\_dprs\\_p'\n",
       "\\item 'famhx\\_ss\\_fath\\_prob\\_ma\\_p'\n",
       "\\item 'famhx\\_ss\\_fath\\_prob\\_nrv\\_p'\n",
       "\\item 'famhx\\_ss\\_momdad\\_dprs\\_p'\n",
       "\\item 'famhx\\_ss\\_momdad\\_ma\\_p'\n",
       "\\item 'famhx\\_ss\\_momdad\\_nrv\\_p'\n",
       "\\item 'famhx\\_ss\\_parent\\_dprs\\_p'\n",
       "\\item 'famhx\\_ss\\_parent\\_ma\\_p'\n",
       "\\item 'famhx\\_ss\\_parent\\_nrv\\_p'\n",
       "\\item 'demo\\_comb\\_income\\_v2'\n",
       "\\item 'demo\\_prnt\\_ed\\_v2'\n",
       "\\item 'famhx\\_ss\\_moth\\_addiction'\n",
       "\\item 'famhx\\_ss\\_fath\\_addiction'\n",
       "\\item 'famhx\\_ss\\_momdad\\_addiction'\n",
       "\\item 'famhx\\_ss\\_parent\\_addiction\\_bin'\n",
       "\\item 'famhx\\_ss\\_parent\\_dprs\\_bin'\n",
       "\\item 'famhx\\_ss\\_parent\\_ma\\_bin'\n",
       "\\item 'famhx\\_ss\\_parent\\_nrv\\_bin'\n",
       "\\end{enumerate*}\n"
      ],
      "text/markdown": [
       "1. 'subjectkey'\n",
       "2. 'interview_date'\n",
       "3. 'interview_age'\n",
       "4. 'sex'\n",
       "5. 'eventname'\n",
       "6. 'rel_family_id'\n",
       "7. 'acs_raked_propensity_score'\n",
       "8. 'race_ethnicity'\n",
       "9. 'mri_info_deviceserialnumber'\n",
       "10. 'site_id_l'\n",
       "11. 'pds_p_ss_female_category'\n",
       "12. 'smri_vol_scs_aal'\n",
       "13. 'smri_vol_scs_aar'\n",
       "14. 'smri_vol_scs_amygdalalh'\n",
       "15. 'smri_vol_scs_amygdalarh'\n",
       "16. 'smri_vol_scs_caudatelh'\n",
       "17. 'smri_vol_scs_caudaterh'\n",
       "18. 'smri_vol_scs_hpuslh'\n",
       "19. 'smri_vol_scs_hpusrh'\n",
       "20. 'smri_vol_scs_pallidumlh'\n",
       "21. 'smri_vol_scs_pallidumrh'\n",
       "22. 'smri_vol_scs_putamenlh'\n",
       "23. 'smri_vol_scs_putamenrh'\n",
       "24. 'smri_vol_scs_tplh'\n",
       "25. 'smri_vol_scs_tprh'\n",
       "26. 'smri_vol_scs_intracranialv'\n",
       "27. 'smri_vol_scs_subcorticalgv'\n",
       "28. 'famhx_ss_moth_prob_dprs_p'\n",
       "29. 'famhx_ss_moth_prob_ma_p'\n",
       "30. 'famhx_ss_moth_prob_nrv_p'\n",
       "31. 'famhx_ss_fath_prob_dprs_p'\n",
       "32. 'famhx_ss_fath_prob_ma_p'\n",
       "33. 'famhx_ss_fath_prob_nrv_p'\n",
       "34. 'famhx_ss_momdad_dprs_p'\n",
       "35. 'famhx_ss_momdad_ma_p'\n",
       "36. 'famhx_ss_momdad_nrv_p'\n",
       "37. 'famhx_ss_parent_dprs_p'\n",
       "38. 'famhx_ss_parent_ma_p'\n",
       "39. 'famhx_ss_parent_nrv_p'\n",
       "40. 'demo_comb_income_v2'\n",
       "41. 'demo_prnt_ed_v2'\n",
       "42. 'famhx_ss_moth_addiction'\n",
       "43. 'famhx_ss_fath_addiction'\n",
       "44. 'famhx_ss_momdad_addiction'\n",
       "45. 'famhx_ss_parent_addiction_bin'\n",
       "46. 'famhx_ss_parent_dprs_bin'\n",
       "47. 'famhx_ss_parent_ma_bin'\n",
       "48. 'famhx_ss_parent_nrv_bin'\n",
       "\n",
       "\n"
      ],
      "text/plain": [
       " [1] \"subjectkey\"                    \"interview_date\"               \n",
       " [3] \"interview_age\"                 \"sex\"                          \n",
       " [5] \"eventname\"                     \"rel_family_id\"                \n",
       " [7] \"acs_raked_propensity_score\"    \"race_ethnicity\"               \n",
       " [9] \"mri_info_deviceserialnumber\"   \"site_id_l\"                    \n",
       "[11] \"pds_p_ss_female_category\"      \"smri_vol_scs_aal\"             \n",
       "[13] \"smri_vol_scs_aar\"              \"smri_vol_scs_amygdalalh\"      \n",
       "[15] \"smri_vol_scs_amygdalarh\"       \"smri_vol_scs_caudatelh\"       \n",
       "[17] \"smri_vol_scs_caudaterh\"        \"smri_vol_scs_hpuslh\"          \n",
       "[19] \"smri_vol_scs_hpusrh\"           \"smri_vol_scs_pallidumlh\"      \n",
       "[21] \"smri_vol_scs_pallidumrh\"       \"smri_vol_scs_putamenlh\"       \n",
       "[23] \"smri_vol_scs_putamenrh\"        \"smri_vol_scs_tplh\"            \n",
       "[25] \"smri_vol_scs_tprh\"             \"smri_vol_scs_intracranialv\"   \n",
       "[27] \"smri_vol_scs_subcorticalgv\"    \"famhx_ss_moth_prob_dprs_p\"    \n",
       "[29] \"famhx_ss_moth_prob_ma_p\"       \"famhx_ss_moth_prob_nrv_p\"     \n",
       "[31] \"famhx_ss_fath_prob_dprs_p\"     \"famhx_ss_fath_prob_ma_p\"      \n",
       "[33] \"famhx_ss_fath_prob_nrv_p\"      \"famhx_ss_momdad_dprs_p\"       \n",
       "[35] \"famhx_ss_momdad_ma_p\"          \"famhx_ss_momdad_nrv_p\"        \n",
       "[37] \"famhx_ss_parent_dprs_p\"        \"famhx_ss_parent_ma_p\"         \n",
       "[39] \"famhx_ss_parent_nrv_p\"         \"demo_comb_income_v2\"          \n",
       "[41] \"demo_prnt_ed_v2\"               \"famhx_ss_moth_addiction\"      \n",
       "[43] \"famhx_ss_fath_addiction\"       \"famhx_ss_momdad_addiction\"    \n",
       "[45] \"famhx_ss_parent_addiction_bin\" \"famhx_ss_parent_dprs_bin\"     \n",
       "[47] \"famhx_ss_parent_ma_bin\"        \"famhx_ss_parent_nrv_bin\"      "
      ]
     },
     "metadata": {},
     "output_type": "display_data"
    },
    {
     "name": "stdout",
     "output_type": "stream",
     "text": [
      "'data.frame':\t10589 obs. of  48 variables:\n",
      " $ subjectkey                   : chr  \"NDAR_INV00LJVZK2\" \"NDAR_INV01NAYMZH\" \"NDAR_INV01Z8HAPV\" \"NDAR_INV02RCED7D\" ...\n",
      " $ interview_date               : chr  \"08/19/2017\" \"08/09/2017\" \"11/19/2017\" \"05/09/2017\" ...\n",
      " $ interview_age                : int  121 129 122 122 126 128 128 120 122 127 ...\n",
      " $ sex                          : chr  \"M\" \"M\" \"F\" \"M\" ...\n",
      " $ eventname                    : chr  \"baseline_year_1_arm_1\" \"baseline_year_1_arm_1\" \"baseline_year_1_arm_1\" \"baseline_year_1_arm_1\" ...\n",
      " $ rel_family_id                : num  8315 862 11328 8783 8316 ...\n",
      " $ acs_raked_propensity_score   : num  616 426 322 428 959 ...\n",
      " $ race_ethnicity               : num  5 1 1 1 1 1 1 3 1 1 ...\n",
      " $ mri_info_deviceserialnumber  : chr  \"HASH03db707f\" \"HASH3935c89e\" \"HASH1314a204\" \"HASH96a0c182\" ...\n",
      " $ site_id_l                    : chr  \"site11\" \"site16\" \"site02\" \"site06\" ...\n",
      " $ pds_p_ss_female_category     : num  NA NA 1 NA 4 NA 3 3 NA 3 ...\n",
      " $ smri_vol_scs_aal             : num  525 535 522 484 535 ...\n",
      " $ smri_vol_scs_aar             : num  580 646 579 622 557 ...\n",
      " $ smri_vol_scs_amygdalalh      : num  1668 1430 1514 1404 1905 ...\n",
      " $ smri_vol_scs_amygdalarh      : num  1614 1386 1713 1445 1995 ...\n",
      " $ smri_vol_scs_caudatelh       : num  3990 3700 4195 4903 4594 ...\n",
      " $ smri_vol_scs_caudaterh       : num  3974 3979 4268 4878 4660 ...\n",
      " $ smri_vol_scs_hpuslh          : num  3888 4403 4752 4582 3887 ...\n",
      " $ smri_vol_scs_hpusrh          : num  4153 3902 4426 4375 4057 ...\n",
      " $ smri_vol_scs_pallidumlh      : num  1993 1702 1800 2156 1703 ...\n",
      " $ smri_vol_scs_pallidumrh      : num  1996 1602 1588 1961 1351 ...\n",
      " $ smri_vol_scs_putamenlh       : num  6261 5618 6196 6602 5672 ...\n",
      " $ smri_vol_scs_putamenrh       : num  6148 5271 5755 6434 5549 ...\n",
      " $ smri_vol_scs_tplh            : num  7876 8064 8223 8323 7795 ...\n",
      " $ smri_vol_scs_tprh            : num  7874 7257 7571 8154 7665 ...\n",
      " $ smri_vol_scs_intracranialv   : num  1601018 1598033 1564111 1497653 1613963 ...\n",
      " $ smri_vol_scs_subcorticalgv   : num  61837 58685 62550 65952 61394 ...\n",
      " $ famhx_ss_moth_prob_dprs_p    : num  0 0 0 0 0 0 0 0 0 0 ...\n",
      " $ famhx_ss_moth_prob_ma_p      : num  0 0 0 0 0 0 0 0 0 0 ...\n",
      " $ famhx_ss_moth_prob_nrv_p     : num  0 0 0 1 0 0 0 0 0 0 ...\n",
      " $ famhx_ss_fath_prob_dprs_p    : num  0 0 0 0 0 0 0 1 0 0 ...\n",
      " $ famhx_ss_fath_prob_ma_p      : num  0 0 0 0 0 0 0 0 0 0 ...\n",
      " $ famhx_ss_fath_prob_nrv_p     : num  0 0 0 0 0 0 0 0 0 0 ...\n",
      " $ famhx_ss_momdad_dprs_p       : num  0 0 0 0 0 0 0 1 0 0 ...\n",
      " $ famhx_ss_momdad_ma_p         : num  0 0 0 0 0 0 0 0 0 0 ...\n",
      " $ famhx_ss_momdad_nrv_p        : num  0 0 0 1 0 0 0 0 0 0 ...\n",
      " $ famhx_ss_parent_dprs_p       : num  0 0 0 0 0 0 0 1 0 0 ...\n",
      " $ famhx_ss_parent_ma_p         : num  0 0 0 0 0 0 0 0 0 0 ...\n",
      " $ famhx_ss_parent_nrv_p        : num  0 0 0 2 0 0 0 0 0 0 ...\n",
      " $ demo_comb_income_v2          : num  1 9 10 9 8 9 9 8 999 9 ...\n",
      " $ demo_prnt_ed_v2              : int  11 15 19 11 19 18 18 16 18 19 ...\n",
      " $ famhx_ss_moth_addiction      : num  0 1 0 0 0 0 0 0 0 0 ...\n",
      " $ famhx_ss_fath_addiction      : num  0 0 0 0 0 0 0 1 1 0 ...\n",
      " $ famhx_ss_momdad_addiction    : num  0 1 0 0 0 0 0 1 1 0 ...\n",
      " $ famhx_ss_parent_addiction_bin: num  0 0 0 0 0 0 0 0 0 0 ...\n",
      " $ famhx_ss_parent_dprs_bin     : num  0 0 0 0 0 0 0 0 0 0 ...\n",
      " $ famhx_ss_parent_ma_bin       : num  0 0 0 0 0 0 0 0 0 0 ...\n",
      " $ famhx_ss_parent_nrv_bin      : num  0 0 0 0 0 0 0 0 0 0 ...\n"
     ]
    }
   ],
   "source": [
    "#set working directory to import PsychRisk3.tsv file that was created with the psychrisk_exploration.ipynb notebook\n",
    "setwd(\"/shared/project-psychopathology-risk/outputs/exploration/\")\n",
    "df <- read.table(file = 'PsychRisk3.tsv', sep = '\\t', header = TRUE)\n",
    "head(df, 5) #inspect dataframe\n",
    "colnames(df)\n",
    "str(df)"
   ]
  },
  {
   "cell_type": "code",
   "execution_count": 22,
   "id": "mighty-south",
   "metadata": {},
   "outputs": [
    {
     "data": {
      "text/html": [
       "12"
      ],
      "text/latex": [
       "12"
      ],
      "text/markdown": [
       "12"
      ],
      "text/plain": [
       "[1] 12"
      ]
     },
     "metadata": {},
     "output_type": "display_data"
    },
    {
     "data": {
      "text/html": [
       "27"
      ],
      "text/latex": [
       "27"
      ],
      "text/markdown": [
       "27"
      ],
      "text/plain": [
       "[1] 27"
      ]
     },
     "metadata": {},
     "output_type": "display_data"
    },
    {
     "data": {
      "text/html": [
       "41"
      ],
      "text/latex": [
       "41"
      ],
      "text/markdown": [
       "41"
      ],
      "text/plain": [
       "[1] 41"
      ]
     },
     "metadata": {},
     "output_type": "display_data"
    }
   ],
   "source": [
    "which( colnames(df)=='smri_vol_scs_aal') #first smri variable in df\n",
    "which( colnames(df)=='smri_vol_scs_subcorticalgv') #last smri variable in df\n",
    "which( colnames(df)=='demo_prnt_ed_v2') #column name "
   ]
  },
  {
   "cell_type": "code",
   "execution_count": 23,
   "id": "least-simpson",
   "metadata": {},
   "outputs": [
    {
     "name": "stdout",
     "output_type": "stream",
     "text": [
      "'data.frame':\t10589 obs. of  48 variables:\n",
      " $ subjectkey                   : Factor w/ 10589 levels \"NDAR_INV003RTV85\",..: 9 22 25 35 39 43 48 55 68 86 ...\n",
      " $ interview_date               : Date, format: \"2017-08-19\" \"2017-08-09\" ...\n",
      " $ interview_age                : num  121 129 122 122 126 128 128 120 122 127 ...\n",
      " $ sex                          : Factor w/ 2 levels \"F\",\"M\": 2 2 1 2 1 2 1 1 2 1 ...\n",
      " $ eventname                    : Factor w/ 1 level \"baseline_year_1_arm_1\": 1 1 1 1 1 1 1 1 1 1 ...\n",
      " $ rel_family_id                : Factor w/ 8834 levels \"1\",\"3\",\"4\",\"5\",..: 6129 661 8524 6485 6130 7273 2425 6486 8525 6490 ...\n",
      " $ acs_raked_propensity_score   : num  616 426 322 428 959 ...\n",
      " $ race_ethnicity               : Factor w/ 5 levels \"1\",\"2\",\"3\",\"4\",..: 5 1 1 1 1 1 1 3 1 1 ...\n",
      " $ mri_info_deviceserialnumber  : Factor w/ 30 levels \"\",\"HASH03db707f\",..: 2 7 4 19 2 10 3 19 4 19 ...\n",
      " $ site_id_l                    : Factor w/ 22 levels \"site01\",\"site02\",..: 11 16 2 6 11 9 14 6 2 6 ...\n",
      " $ pds_p_ss_female_category     : Factor w/ 5 levels \"1\",\"2\",\"3\",\"4\",..: NA NA 1 NA 4 NA 3 3 NA 3 ...\n",
      " $ smri_vol_scs_aal             : num  525 535 522 484 535 ...\n",
      " $ smri_vol_scs_aar             : num  580 646 579 622 557 ...\n",
      " $ smri_vol_scs_amygdalalh      : num  1668 1430 1514 1404 1905 ...\n",
      " $ smri_vol_scs_amygdalarh      : num  1614 1386 1713 1445 1995 ...\n",
      " $ smri_vol_scs_caudatelh       : num  3990 3700 4195 4903 4594 ...\n",
      " $ smri_vol_scs_caudaterh       : num  3974 3979 4268 4878 4660 ...\n",
      " $ smri_vol_scs_hpuslh          : num  3888 4403 4752 4582 3887 ...\n",
      " $ smri_vol_scs_hpusrh          : num  4153 3902 4426 4375 4057 ...\n",
      " $ smri_vol_scs_pallidumlh      : num  1993 1702 1800 2156 1703 ...\n",
      " $ smri_vol_scs_pallidumrh      : num  1996 1602 1588 1961 1351 ...\n",
      " $ smri_vol_scs_putamenlh       : num  6261 5618 6196 6602 5672 ...\n",
      " $ smri_vol_scs_putamenrh       : num  6148 5271 5755 6434 5549 ...\n",
      " $ smri_vol_scs_tplh            : num  7876 8064 8223 8323 7795 ...\n",
      " $ smri_vol_scs_tprh            : num  7874 7257 7571 8154 7665 ...\n",
      " $ smri_vol_scs_intracranialv   : num  1601018 1598033 1564111 1497653 1613963 ...\n",
      " $ smri_vol_scs_subcorticalgv   : num  61837 58685 62550 65952 61394 ...\n",
      " $ famhx_ss_moth_prob_dprs_p    : Factor w/ 2 levels \"0\",\"1\": 1 1 1 1 1 1 1 1 1 1 ...\n",
      " $ famhx_ss_moth_prob_ma_p      : Factor w/ 2 levels \"0\",\"1\": 1 1 1 1 1 1 1 1 1 1 ...\n",
      " $ famhx_ss_moth_prob_nrv_p     : Factor w/ 2 levels \"0\",\"1\": 1 1 1 2 1 1 1 1 1 1 ...\n",
      " $ famhx_ss_fath_prob_dprs_p    : Factor w/ 2 levels \"0\",\"1\": 1 1 1 1 1 1 1 2 1 1 ...\n",
      " $ famhx_ss_fath_prob_ma_p      : Factor w/ 2 levels \"0\",\"1\": 1 1 1 1 1 1 1 1 1 1 ...\n",
      " $ famhx_ss_fath_prob_nrv_p     : Factor w/ 2 levels \"0\",\"1\": 1 1 1 1 1 1 1 1 1 1 ...\n",
      " $ famhx_ss_momdad_dprs_p       : Factor w/ 2 levels \"0\",\"1\": 1 1 1 1 1 1 1 2 1 1 ...\n",
      " $ famhx_ss_momdad_ma_p         : Factor w/ 2 levels \"0\",\"1\": 1 1 1 1 1 1 1 1 1 1 ...\n",
      " $ famhx_ss_momdad_nrv_p        : Factor w/ 2 levels \"0\",\"1\": 1 1 1 2 1 1 1 1 1 1 ...\n",
      " $ famhx_ss_parent_dprs_p       : Factor w/ 6 levels \"-2\",\"-1\",\"0\",..: 3 3 3 3 3 3 3 4 3 3 ...\n",
      " $ famhx_ss_parent_ma_p         : Factor w/ 6 levels \"-2\",\"-1\",\"0\",..: 3 3 3 3 3 3 3 3 3 3 ...\n",
      " $ famhx_ss_parent_nrv_p        : Factor w/ 6 levels \"-2\",\"-1\",\"0\",..: 3 3 3 5 3 3 3 3 3 3 ...\n",
      " $ demo_comb_income_v2          : num  1 9 10 9 8 9 9 8 999 9 ...\n",
      " $ demo_prnt_ed_v2              : num  11 15 19 11 19 18 18 16 18 19 ...\n",
      " $ famhx_ss_moth_addiction      : Factor w/ 2 levels \"0\",\"1\": 1 2 1 1 1 1 1 1 1 1 ...\n",
      " $ famhx_ss_fath_addiction      : Factor w/ 2 levels \"0\",\"1\": 1 1 1 1 1 1 1 2 2 1 ...\n",
      " $ famhx_ss_momdad_addiction    : Factor w/ 2 levels \"0\",\"1\": 1 2 1 1 1 1 1 2 2 1 ...\n",
      " $ famhx_ss_parent_addiction_bin: Factor w/ 2 levels \"0\",\"1\": 1 1 1 1 1 1 1 1 1 1 ...\n",
      " $ famhx_ss_parent_dprs_bin     : Factor w/ 2 levels \"0\",\"1\": 1 1 1 1 1 1 1 1 1 1 ...\n",
      " $ famhx_ss_parent_ma_bin       : Factor w/ 2 levels \"0\",\"1\": 1 1 1 1 1 1 1 1 1 1 ...\n",
      " $ famhx_ss_parent_nrv_bin      : Factor w/ 2 levels \"0\",\"1\": 1 1 1 1 1 1 1 1 1 1 ...\n"
     ]
    }
   ],
   "source": [
    "# Specify datatype\n",
    "names1 <- c(1,4:6, 8:11, 28:39, 42:48) #column numbers categorical variables\n",
    "df[names1]<- lapply(df[names1],factor)\n",
    "df$interview_date <- as.Date(df$interview_date, \"%m/%d/%Y\")\n",
    "df$interview_age <- as.numeric(df$interview_age)\n",
    "df$demo_prnt_ed_v2 <- as.numeric(df$demo_prnt_ed_v2)\n",
    "str(df)"
   ]
  },
  {
   "cell_type": "code",
   "execution_count": 24,
   "id": "absolute-chart",
   "metadata": {},
   "outputs": [],
   "source": [
    "# replace value 999 to NA \n",
    "df <- df %>%\n",
    "  replace_with_na(replace = list(demo_comb_income_v2 = c(999, 777)))"
   ]
  },
  {
   "cell_type": "code",
   "execution_count": 25,
   "id": "insured-catalog",
   "metadata": {},
   "outputs": [
    {
     "name": "stdout",
     "output_type": "stream",
     "text": [
      "Scaled  19  variable(s)\n"
     ]
    }
   ],
   "source": [
    "#standardize smri variables with scale.many function\n",
    "scale.many <- function(dat, column.nos) {\n",
    "  nms <- names(dat)\n",
    "  for(col in column.nos) {\n",
    "    name <- paste(nms[col],\".z\", sep = \"\")\n",
    "    dat[name] <- scale(dat[,col])\n",
    "  }\n",
    "  cat(paste(\"Scaled \", length(column.nos), \" variable(s)\\n\"))\n",
    "  dat\n",
    "}\n",
    "\n",
    "df <- scale.many(df, c(3, 7, 12:27, 41)) #Add standardized age, acs_raked_propensity_score, smri_vol_scs*, and demo_comb_income_v2 to df with .z extension"
   ]
  },
  {
   "cell_type": "code",
   "execution_count": 26,
   "id": "alpine-attention",
   "metadata": {},
   "outputs": [
    {
     "data": {
      "text/html": [
       "<table class=\"dataframe\">\n",
       "<caption>A data.frame: 5 × 67</caption>\n",
       "<thead>\n",
       "\t<tr><th></th><th scope=col>subjectkey</th><th scope=col>interview_date</th><th scope=col>interview_age</th><th scope=col>sex</th><th scope=col>eventname</th><th scope=col>rel_family_id</th><th scope=col>acs_raked_propensity_score</th><th scope=col>race_ethnicity</th><th scope=col>mri_info_deviceserialnumber</th><th scope=col>site_id_l</th><th scope=col>⋯</th><th scope=col>smri_vol_scs_hpusrh.z</th><th scope=col>smri_vol_scs_pallidumlh.z</th><th scope=col>smri_vol_scs_pallidumrh.z</th><th scope=col>smri_vol_scs_putamenlh.z</th><th scope=col>smri_vol_scs_putamenrh.z</th><th scope=col>smri_vol_scs_tplh.z</th><th scope=col>smri_vol_scs_tprh.z</th><th scope=col>smri_vol_scs_intracranialv.z</th><th scope=col>smri_vol_scs_subcorticalgv.z</th><th scope=col>demo_prnt_ed_v2.z</th></tr>\n",
       "\t<tr><th></th><th scope=col>&lt;fct&gt;</th><th scope=col>&lt;date&gt;</th><th scope=col>&lt;dbl&gt;</th><th scope=col>&lt;fct&gt;</th><th scope=col>&lt;fct&gt;</th><th scope=col>&lt;fct&gt;</th><th scope=col>&lt;dbl&gt;</th><th scope=col>&lt;fct&gt;</th><th scope=col>&lt;fct&gt;</th><th scope=col>&lt;fct&gt;</th><th scope=col>⋯</th><th scope=col>&lt;dbl[,1]&gt;</th><th scope=col>&lt;dbl[,1]&gt;</th><th scope=col>&lt;dbl[,1]&gt;</th><th scope=col>&lt;dbl[,1]&gt;</th><th scope=col>&lt;dbl[,1]&gt;</th><th scope=col>&lt;dbl[,1]&gt;</th><th scope=col>&lt;dbl[,1]&gt;</th><th scope=col>&lt;dbl[,1]&gt;</th><th scope=col>&lt;dbl[,1]&gt;</th><th scope=col>&lt;dbl[,1]&gt;</th></tr>\n",
       "</thead>\n",
       "<tbody>\n",
       "\t<tr><th scope=row>1</th><td>NDAR_INV00LJVZK2</td><td>2017-08-19</td><td>121</td><td>M</td><td>baseline_year_1_arm_1</td><td>8315 </td><td>616.1476</td><td>5</td><td>HASH03db707f</td><td>site11</td><td>⋯</td><td> 0.13209727</td><td> 0.4162683</td><td> 1.6903325</td><td> 0.4259515</td><td> 0.56062481</td><td>0.2228562</td><td> 0.87130562</td><td> 0.5733470</td><td> 0.2910547</td><td>-0.25280529</td></tr>\n",
       "\t<tr><th scope=row>2</th><td>NDAR_INV01NAYMZH</td><td>2017-08-09</td><td>129</td><td>M</td><td>baseline_year_1_arm_1</td><td>862  </td><td>425.6335</td><td>1</td><td>HASH3935c89e</td><td>site16</td><td>⋯</td><td>-0.45240087</td><td>-0.7333601</td><td>-0.2817656</td><td>-0.4776828</td><td>-0.83253035</td><td>0.4750989</td><td>-0.01541085</td><td> 0.5531937</td><td>-0.3417262</td><td>-0.09734235</td></tr>\n",
       "\t<tr><th scope=row>3</th><td>NDAR_INV01Z8HAPV</td><td>2017-11-19</td><td>122</td><td>F</td><td>baseline_year_1_arm_1</td><td>11328</td><td>321.6282</td><td>1</td><td>HASH1314a204</td><td>site02</td><td>⋯</td><td> 0.76888278</td><td>-0.3465951</td><td>-0.3528412</td><td> 0.3345759</td><td>-0.06300066</td><td>0.6877189</td><td> 0.43649977</td><td> 0.3242023</td><td> 0.4341932</td><td> 0.05812059</td></tr>\n",
       "\t<tr><th scope=row>4</th><td>NDAR_INV02RCED7D</td><td>2017-05-09</td><td>122</td><td>M</td><td>baseline_year_1_arm_1</td><td>8783 </td><td>428.3225</td><td>1</td><td>HASH96a0c182</td><td>site06</td><td>⋯</td><td> 0.65193646</td><td> 1.0633787</td><td> 1.5136445</td><td> 0.9057437</td><td> 1.01405513</td><td>0.8224364</td><td> 1.27348307</td><td>-0.1244216</td><td> 1.1171629</td><td>-0.25280529</td></tr>\n",
       "\t<tr><th scope=row>5</th><td>NDAR_INV030X9ZNH</td><td>2018-06-11</td><td>126</td><td>F</td><td>baseline_year_1_arm_1</td><td>8316 </td><td>958.7208</td><td>1</td><td>HASH03db707f</td><td>site11</td><td>⋯</td><td>-0.09035749</td><td>-0.7294095</td><td>-1.5411053</td><td>-0.4017707</td><td>-0.39005474</td><td>0.1136584</td><td> 0.57089431</td><td> 0.6607305</td><td> 0.2021201</td><td> 0.05812059</td></tr>\n",
       "</tbody>\n",
       "</table>\n"
      ],
      "text/latex": [
       "A data.frame: 5 × 67\n",
       "\\begin{tabular}{r|lllllllllllllllllllll}\n",
       "  & subjectkey & interview\\_date & interview\\_age & sex & eventname & rel\\_family\\_id & acs\\_raked\\_propensity\\_score & race\\_ethnicity & mri\\_info\\_deviceserialnumber & site\\_id\\_l & ⋯ & smri\\_vol\\_scs\\_hpusrh.z & smri\\_vol\\_scs\\_pallidumlh.z & smri\\_vol\\_scs\\_pallidumrh.z & smri\\_vol\\_scs\\_putamenlh.z & smri\\_vol\\_scs\\_putamenrh.z & smri\\_vol\\_scs\\_tplh.z & smri\\_vol\\_scs\\_tprh.z & smri\\_vol\\_scs\\_intracranialv.z & smri\\_vol\\_scs\\_subcorticalgv.z & demo\\_prnt\\_ed\\_v2.z\\\\\n",
       "  & <fct> & <date> & <dbl> & <fct> & <fct> & <fct> & <dbl> & <fct> & <fct> & <fct> & ⋯ & <dbl{[},1{]}> & <dbl{[},1{]}> & <dbl{[},1{]}> & <dbl{[},1{]}> & <dbl{[},1{]}> & <dbl{[},1{]}> & <dbl{[},1{]}> & <dbl{[},1{]}> & <dbl{[},1{]}> & <dbl{[},1{]}>\\\\\n",
       "\\hline\n",
       "\t1 & NDAR\\_INV00LJVZK2 & 2017-08-19 & 121 & M & baseline\\_year\\_1\\_arm\\_1 & 8315  & 616.1476 & 5 & HASH03db707f & site11 & ⋯ &  0.13209727 &  0.4162683 &  1.6903325 &  0.4259515 &  0.56062481 & 0.2228562 &  0.87130562 &  0.5733470 &  0.2910547 & -0.25280529\\\\\n",
       "\t2 & NDAR\\_INV01NAYMZH & 2017-08-09 & 129 & M & baseline\\_year\\_1\\_arm\\_1 & 862   & 425.6335 & 1 & HASH3935c89e & site16 & ⋯ & -0.45240087 & -0.7333601 & -0.2817656 & -0.4776828 & -0.83253035 & 0.4750989 & -0.01541085 &  0.5531937 & -0.3417262 & -0.09734235\\\\\n",
       "\t3 & NDAR\\_INV01Z8HAPV & 2017-11-19 & 122 & F & baseline\\_year\\_1\\_arm\\_1 & 11328 & 321.6282 & 1 & HASH1314a204 & site02 & ⋯ &  0.76888278 & -0.3465951 & -0.3528412 &  0.3345759 & -0.06300066 & 0.6877189 &  0.43649977 &  0.3242023 &  0.4341932 &  0.05812059\\\\\n",
       "\t4 & NDAR\\_INV02RCED7D & 2017-05-09 & 122 & M & baseline\\_year\\_1\\_arm\\_1 & 8783  & 428.3225 & 1 & HASH96a0c182 & site06 & ⋯ &  0.65193646 &  1.0633787 &  1.5136445 &  0.9057437 &  1.01405513 & 0.8224364 &  1.27348307 & -0.1244216 &  1.1171629 & -0.25280529\\\\\n",
       "\t5 & NDAR\\_INV030X9ZNH & 2018-06-11 & 126 & F & baseline\\_year\\_1\\_arm\\_1 & 8316  & 958.7208 & 1 & HASH03db707f & site11 & ⋯ & -0.09035749 & -0.7294095 & -1.5411053 & -0.4017707 & -0.39005474 & 0.1136584 &  0.57089431 &  0.6607305 &  0.2021201 &  0.05812059\\\\\n",
       "\\end{tabular}\n"
      ],
      "text/markdown": [
       "\n",
       "A data.frame: 5 × 67\n",
       "\n",
       "| <!--/--> | subjectkey &lt;fct&gt; | interview_date &lt;date&gt; | interview_age &lt;dbl&gt; | sex &lt;fct&gt; | eventname &lt;fct&gt; | rel_family_id &lt;fct&gt; | acs_raked_propensity_score &lt;dbl&gt; | race_ethnicity &lt;fct&gt; | mri_info_deviceserialnumber &lt;fct&gt; | site_id_l &lt;fct&gt; | ⋯ ⋯ | smri_vol_scs_hpusrh.z &lt;dbl[,1]&gt; | smri_vol_scs_pallidumlh.z &lt;dbl[,1]&gt; | smri_vol_scs_pallidumrh.z &lt;dbl[,1]&gt; | smri_vol_scs_putamenlh.z &lt;dbl[,1]&gt; | smri_vol_scs_putamenrh.z &lt;dbl[,1]&gt; | smri_vol_scs_tplh.z &lt;dbl[,1]&gt; | smri_vol_scs_tprh.z &lt;dbl[,1]&gt; | smri_vol_scs_intracranialv.z &lt;dbl[,1]&gt; | smri_vol_scs_subcorticalgv.z &lt;dbl[,1]&gt; | demo_prnt_ed_v2.z &lt;dbl[,1]&gt; |\n",
       "|---|---|---|---|---|---|---|---|---|---|---|---|---|---|---|---|---|---|---|---|---|---|\n",
       "| 1 | NDAR_INV00LJVZK2 | 2017-08-19 | 121 | M | baseline_year_1_arm_1 | 8315  | 616.1476 | 5 | HASH03db707f | site11 | ⋯ |  0.13209727 |  0.4162683 |  1.6903325 |  0.4259515 |  0.56062481 | 0.2228562 |  0.87130562 |  0.5733470 |  0.2910547 | -0.25280529 |\n",
       "| 2 | NDAR_INV01NAYMZH | 2017-08-09 | 129 | M | baseline_year_1_arm_1 | 862   | 425.6335 | 1 | HASH3935c89e | site16 | ⋯ | -0.45240087 | -0.7333601 | -0.2817656 | -0.4776828 | -0.83253035 | 0.4750989 | -0.01541085 |  0.5531937 | -0.3417262 | -0.09734235 |\n",
       "| 3 | NDAR_INV01Z8HAPV | 2017-11-19 | 122 | F | baseline_year_1_arm_1 | 11328 | 321.6282 | 1 | HASH1314a204 | site02 | ⋯ |  0.76888278 | -0.3465951 | -0.3528412 |  0.3345759 | -0.06300066 | 0.6877189 |  0.43649977 |  0.3242023 |  0.4341932 |  0.05812059 |\n",
       "| 4 | NDAR_INV02RCED7D | 2017-05-09 | 122 | M | baseline_year_1_arm_1 | 8783  | 428.3225 | 1 | HASH96a0c182 | site06 | ⋯ |  0.65193646 |  1.0633787 |  1.5136445 |  0.9057437 |  1.01405513 | 0.8224364 |  1.27348307 | -0.1244216 |  1.1171629 | -0.25280529 |\n",
       "| 5 | NDAR_INV030X9ZNH | 2018-06-11 | 126 | F | baseline_year_1_arm_1 | 8316  | 958.7208 | 1 | HASH03db707f | site11 | ⋯ | -0.09035749 | -0.7294095 | -1.5411053 | -0.4017707 | -0.39005474 | 0.1136584 |  0.57089431 |  0.6607305 |  0.2021201 |  0.05812059 |\n",
       "\n"
      ],
      "text/plain": [
       "  subjectkey       interview_date interview_age sex eventname            \n",
       "1 NDAR_INV00LJVZK2 2017-08-19     121           M   baseline_year_1_arm_1\n",
       "2 NDAR_INV01NAYMZH 2017-08-09     129           M   baseline_year_1_arm_1\n",
       "3 NDAR_INV01Z8HAPV 2017-11-19     122           F   baseline_year_1_arm_1\n",
       "4 NDAR_INV02RCED7D 2017-05-09     122           M   baseline_year_1_arm_1\n",
       "5 NDAR_INV030X9ZNH 2018-06-11     126           F   baseline_year_1_arm_1\n",
       "  rel_family_id acs_raked_propensity_score race_ethnicity\n",
       "1 8315          616.1476                   5             \n",
       "2 862           425.6335                   1             \n",
       "3 11328         321.6282                   1             \n",
       "4 8783          428.3225                   1             \n",
       "5 8316          958.7208                   1             \n",
       "  mri_info_deviceserialnumber site_id_l ⋯ smri_vol_scs_hpusrh.z\n",
       "1 HASH03db707f                site11    ⋯  0.13209727          \n",
       "2 HASH3935c89e                site16    ⋯ -0.45240087          \n",
       "3 HASH1314a204                site02    ⋯  0.76888278          \n",
       "4 HASH96a0c182                site06    ⋯  0.65193646          \n",
       "5 HASH03db707f                site11    ⋯ -0.09035749          \n",
       "  smri_vol_scs_pallidumlh.z smri_vol_scs_pallidumrh.z smri_vol_scs_putamenlh.z\n",
       "1  0.4162683                 1.6903325                 0.4259515              \n",
       "2 -0.7333601                -0.2817656                -0.4776828              \n",
       "3 -0.3465951                -0.3528412                 0.3345759              \n",
       "4  1.0633787                 1.5136445                 0.9057437              \n",
       "5 -0.7294095                -1.5411053                -0.4017707              \n",
       "  smri_vol_scs_putamenrh.z smri_vol_scs_tplh.z smri_vol_scs_tprh.z\n",
       "1  0.56062481              0.2228562            0.87130562        \n",
       "2 -0.83253035              0.4750989           -0.01541085        \n",
       "3 -0.06300066              0.6877189            0.43649977        \n",
       "4  1.01405513              0.8224364            1.27348307        \n",
       "5 -0.39005474              0.1136584            0.57089431        \n",
       "  smri_vol_scs_intracranialv.z smri_vol_scs_subcorticalgv.z demo_prnt_ed_v2.z\n",
       "1  0.5733470                    0.2910547                   -0.25280529      \n",
       "2  0.5531937                   -0.3417262                   -0.09734235      \n",
       "3  0.3242023                    0.4341932                    0.05812059      \n",
       "4 -0.1244216                    1.1171629                   -0.25280529      \n",
       "5  0.6607305                    0.2021201                    0.05812059      "
      ]
     },
     "metadata": {},
     "output_type": "display_data"
    },
    {
     "data": {
      "text/html": [
       "<style>\n",
       ".list-inline {list-style: none; margin:0; padding: 0}\n",
       ".list-inline>li {display: inline-block}\n",
       ".list-inline>li:not(:last-child)::after {content: \"\\00b7\"; padding: 0 .5ex}\n",
       "</style>\n",
       "<ol class=list-inline><li>'subjectkey'</li><li>'interview_date'</li><li>'interview_age'</li><li>'sex'</li><li>'eventname'</li><li>'rel_family_id'</li><li>'acs_raked_propensity_score'</li><li>'race_ethnicity'</li><li>'mri_info_deviceserialnumber'</li><li>'site_id_l'</li><li>'pds_p_ss_female_category'</li><li>'smri_vol_scs_aal'</li><li>'smri_vol_scs_aar'</li><li>'smri_vol_scs_amygdalalh'</li><li>'smri_vol_scs_amygdalarh'</li><li>'smri_vol_scs_caudatelh'</li><li>'smri_vol_scs_caudaterh'</li><li>'smri_vol_scs_hpuslh'</li><li>'smri_vol_scs_hpusrh'</li><li>'smri_vol_scs_pallidumlh'</li><li>'smri_vol_scs_pallidumrh'</li><li>'smri_vol_scs_putamenlh'</li><li>'smri_vol_scs_putamenrh'</li><li>'smri_vol_scs_tplh'</li><li>'smri_vol_scs_tprh'</li><li>'smri_vol_scs_intracranialv'</li><li>'smri_vol_scs_subcorticalgv'</li><li>'famhx_ss_moth_prob_dprs_p'</li><li>'famhx_ss_moth_prob_ma_p'</li><li>'famhx_ss_moth_prob_nrv_p'</li><li>'famhx_ss_fath_prob_dprs_p'</li><li>'famhx_ss_fath_prob_ma_p'</li><li>'famhx_ss_fath_prob_nrv_p'</li><li>'famhx_ss_momdad_dprs_p'</li><li>'famhx_ss_momdad_ma_p'</li><li>'famhx_ss_momdad_nrv_p'</li><li>'famhx_ss_parent_dprs_p'</li><li>'famhx_ss_parent_ma_p'</li><li>'famhx_ss_parent_nrv_p'</li><li>'demo_comb_income_v2'</li><li>'demo_prnt_ed_v2'</li><li>'famhx_ss_moth_addiction'</li><li>'famhx_ss_fath_addiction'</li><li>'famhx_ss_momdad_addiction'</li><li>'famhx_ss_parent_addiction_bin'</li><li>'famhx_ss_parent_dprs_bin'</li><li>'famhx_ss_parent_ma_bin'</li><li>'famhx_ss_parent_nrv_bin'</li><li>'interview_age.z'</li><li>'acs_raked_propensity_score.z'</li><li>'smri_vol_scs_aal.z'</li><li>'smri_vol_scs_aar.z'</li><li>'smri_vol_scs_amygdalalh.z'</li><li>'smri_vol_scs_amygdalarh.z'</li><li>'smri_vol_scs_caudatelh.z'</li><li>'smri_vol_scs_caudaterh.z'</li><li>'smri_vol_scs_hpuslh.z'</li><li>'smri_vol_scs_hpusrh.z'</li><li>'smri_vol_scs_pallidumlh.z'</li><li>'smri_vol_scs_pallidumrh.z'</li><li>'smri_vol_scs_putamenlh.z'</li><li>'smri_vol_scs_putamenrh.z'</li><li>'smri_vol_scs_tplh.z'</li><li>'smri_vol_scs_tprh.z'</li><li>'smri_vol_scs_intracranialv.z'</li><li>'smri_vol_scs_subcorticalgv.z'</li><li>'demo_prnt_ed_v2.z'</li></ol>\n"
      ],
      "text/latex": [
       "\\begin{enumerate*}\n",
       "\\item 'subjectkey'\n",
       "\\item 'interview\\_date'\n",
       "\\item 'interview\\_age'\n",
       "\\item 'sex'\n",
       "\\item 'eventname'\n",
       "\\item 'rel\\_family\\_id'\n",
       "\\item 'acs\\_raked\\_propensity\\_score'\n",
       "\\item 'race\\_ethnicity'\n",
       "\\item 'mri\\_info\\_deviceserialnumber'\n",
       "\\item 'site\\_id\\_l'\n",
       "\\item 'pds\\_p\\_ss\\_female\\_category'\n",
       "\\item 'smri\\_vol\\_scs\\_aal'\n",
       "\\item 'smri\\_vol\\_scs\\_aar'\n",
       "\\item 'smri\\_vol\\_scs\\_amygdalalh'\n",
       "\\item 'smri\\_vol\\_scs\\_amygdalarh'\n",
       "\\item 'smri\\_vol\\_scs\\_caudatelh'\n",
       "\\item 'smri\\_vol\\_scs\\_caudaterh'\n",
       "\\item 'smri\\_vol\\_scs\\_hpuslh'\n",
       "\\item 'smri\\_vol\\_scs\\_hpusrh'\n",
       "\\item 'smri\\_vol\\_scs\\_pallidumlh'\n",
       "\\item 'smri\\_vol\\_scs\\_pallidumrh'\n",
       "\\item 'smri\\_vol\\_scs\\_putamenlh'\n",
       "\\item 'smri\\_vol\\_scs\\_putamenrh'\n",
       "\\item 'smri\\_vol\\_scs\\_tplh'\n",
       "\\item 'smri\\_vol\\_scs\\_tprh'\n",
       "\\item 'smri\\_vol\\_scs\\_intracranialv'\n",
       "\\item 'smri\\_vol\\_scs\\_subcorticalgv'\n",
       "\\item 'famhx\\_ss\\_moth\\_prob\\_dprs\\_p'\n",
       "\\item 'famhx\\_ss\\_moth\\_prob\\_ma\\_p'\n",
       "\\item 'famhx\\_ss\\_moth\\_prob\\_nrv\\_p'\n",
       "\\item 'famhx\\_ss\\_fath\\_prob\\_dprs\\_p'\n",
       "\\item 'famhx\\_ss\\_fath\\_prob\\_ma\\_p'\n",
       "\\item 'famhx\\_ss\\_fath\\_prob\\_nrv\\_p'\n",
       "\\item 'famhx\\_ss\\_momdad\\_dprs\\_p'\n",
       "\\item 'famhx\\_ss\\_momdad\\_ma\\_p'\n",
       "\\item 'famhx\\_ss\\_momdad\\_nrv\\_p'\n",
       "\\item 'famhx\\_ss\\_parent\\_dprs\\_p'\n",
       "\\item 'famhx\\_ss\\_parent\\_ma\\_p'\n",
       "\\item 'famhx\\_ss\\_parent\\_nrv\\_p'\n",
       "\\item 'demo\\_comb\\_income\\_v2'\n",
       "\\item 'demo\\_prnt\\_ed\\_v2'\n",
       "\\item 'famhx\\_ss\\_moth\\_addiction'\n",
       "\\item 'famhx\\_ss\\_fath\\_addiction'\n",
       "\\item 'famhx\\_ss\\_momdad\\_addiction'\n",
       "\\item 'famhx\\_ss\\_parent\\_addiction\\_bin'\n",
       "\\item 'famhx\\_ss\\_parent\\_dprs\\_bin'\n",
       "\\item 'famhx\\_ss\\_parent\\_ma\\_bin'\n",
       "\\item 'famhx\\_ss\\_parent\\_nrv\\_bin'\n",
       "\\item 'interview\\_age.z'\n",
       "\\item 'acs\\_raked\\_propensity\\_score.z'\n",
       "\\item 'smri\\_vol\\_scs\\_aal.z'\n",
       "\\item 'smri\\_vol\\_scs\\_aar.z'\n",
       "\\item 'smri\\_vol\\_scs\\_amygdalalh.z'\n",
       "\\item 'smri\\_vol\\_scs\\_amygdalarh.z'\n",
       "\\item 'smri\\_vol\\_scs\\_caudatelh.z'\n",
       "\\item 'smri\\_vol\\_scs\\_caudaterh.z'\n",
       "\\item 'smri\\_vol\\_scs\\_hpuslh.z'\n",
       "\\item 'smri\\_vol\\_scs\\_hpusrh.z'\n",
       "\\item 'smri\\_vol\\_scs\\_pallidumlh.z'\n",
       "\\item 'smri\\_vol\\_scs\\_pallidumrh.z'\n",
       "\\item 'smri\\_vol\\_scs\\_putamenlh.z'\n",
       "\\item 'smri\\_vol\\_scs\\_putamenrh.z'\n",
       "\\item 'smri\\_vol\\_scs\\_tplh.z'\n",
       "\\item 'smri\\_vol\\_scs\\_tprh.z'\n",
       "\\item 'smri\\_vol\\_scs\\_intracranialv.z'\n",
       "\\item 'smri\\_vol\\_scs\\_subcorticalgv.z'\n",
       "\\item 'demo\\_prnt\\_ed\\_v2.z'\n",
       "\\end{enumerate*}\n"
      ],
      "text/markdown": [
       "1. 'subjectkey'\n",
       "2. 'interview_date'\n",
       "3. 'interview_age'\n",
       "4. 'sex'\n",
       "5. 'eventname'\n",
       "6. 'rel_family_id'\n",
       "7. 'acs_raked_propensity_score'\n",
       "8. 'race_ethnicity'\n",
       "9. 'mri_info_deviceserialnumber'\n",
       "10. 'site_id_l'\n",
       "11. 'pds_p_ss_female_category'\n",
       "12. 'smri_vol_scs_aal'\n",
       "13. 'smri_vol_scs_aar'\n",
       "14. 'smri_vol_scs_amygdalalh'\n",
       "15. 'smri_vol_scs_amygdalarh'\n",
       "16. 'smri_vol_scs_caudatelh'\n",
       "17. 'smri_vol_scs_caudaterh'\n",
       "18. 'smri_vol_scs_hpuslh'\n",
       "19. 'smri_vol_scs_hpusrh'\n",
       "20. 'smri_vol_scs_pallidumlh'\n",
       "21. 'smri_vol_scs_pallidumrh'\n",
       "22. 'smri_vol_scs_putamenlh'\n",
       "23. 'smri_vol_scs_putamenrh'\n",
       "24. 'smri_vol_scs_tplh'\n",
       "25. 'smri_vol_scs_tprh'\n",
       "26. 'smri_vol_scs_intracranialv'\n",
       "27. 'smri_vol_scs_subcorticalgv'\n",
       "28. 'famhx_ss_moth_prob_dprs_p'\n",
       "29. 'famhx_ss_moth_prob_ma_p'\n",
       "30. 'famhx_ss_moth_prob_nrv_p'\n",
       "31. 'famhx_ss_fath_prob_dprs_p'\n",
       "32. 'famhx_ss_fath_prob_ma_p'\n",
       "33. 'famhx_ss_fath_prob_nrv_p'\n",
       "34. 'famhx_ss_momdad_dprs_p'\n",
       "35. 'famhx_ss_momdad_ma_p'\n",
       "36. 'famhx_ss_momdad_nrv_p'\n",
       "37. 'famhx_ss_parent_dprs_p'\n",
       "38. 'famhx_ss_parent_ma_p'\n",
       "39. 'famhx_ss_parent_nrv_p'\n",
       "40. 'demo_comb_income_v2'\n",
       "41. 'demo_prnt_ed_v2'\n",
       "42. 'famhx_ss_moth_addiction'\n",
       "43. 'famhx_ss_fath_addiction'\n",
       "44. 'famhx_ss_momdad_addiction'\n",
       "45. 'famhx_ss_parent_addiction_bin'\n",
       "46. 'famhx_ss_parent_dprs_bin'\n",
       "47. 'famhx_ss_parent_ma_bin'\n",
       "48. 'famhx_ss_parent_nrv_bin'\n",
       "49. 'interview_age.z'\n",
       "50. 'acs_raked_propensity_score.z'\n",
       "51. 'smri_vol_scs_aal.z'\n",
       "52. 'smri_vol_scs_aar.z'\n",
       "53. 'smri_vol_scs_amygdalalh.z'\n",
       "54. 'smri_vol_scs_amygdalarh.z'\n",
       "55. 'smri_vol_scs_caudatelh.z'\n",
       "56. 'smri_vol_scs_caudaterh.z'\n",
       "57. 'smri_vol_scs_hpuslh.z'\n",
       "58. 'smri_vol_scs_hpusrh.z'\n",
       "59. 'smri_vol_scs_pallidumlh.z'\n",
       "60. 'smri_vol_scs_pallidumrh.z'\n",
       "61. 'smri_vol_scs_putamenlh.z'\n",
       "62. 'smri_vol_scs_putamenrh.z'\n",
       "63. 'smri_vol_scs_tplh.z'\n",
       "64. 'smri_vol_scs_tprh.z'\n",
       "65. 'smri_vol_scs_intracranialv.z'\n",
       "66. 'smri_vol_scs_subcorticalgv.z'\n",
       "67. 'demo_prnt_ed_v2.z'\n",
       "\n",
       "\n"
      ],
      "text/plain": [
       " [1] \"subjectkey\"                    \"interview_date\"               \n",
       " [3] \"interview_age\"                 \"sex\"                          \n",
       " [5] \"eventname\"                     \"rel_family_id\"                \n",
       " [7] \"acs_raked_propensity_score\"    \"race_ethnicity\"               \n",
       " [9] \"mri_info_deviceserialnumber\"   \"site_id_l\"                    \n",
       "[11] \"pds_p_ss_female_category\"      \"smri_vol_scs_aal\"             \n",
       "[13] \"smri_vol_scs_aar\"              \"smri_vol_scs_amygdalalh\"      \n",
       "[15] \"smri_vol_scs_amygdalarh\"       \"smri_vol_scs_caudatelh\"       \n",
       "[17] \"smri_vol_scs_caudaterh\"        \"smri_vol_scs_hpuslh\"          \n",
       "[19] \"smri_vol_scs_hpusrh\"           \"smri_vol_scs_pallidumlh\"      \n",
       "[21] \"smri_vol_scs_pallidumrh\"       \"smri_vol_scs_putamenlh\"       \n",
       "[23] \"smri_vol_scs_putamenrh\"        \"smri_vol_scs_tplh\"            \n",
       "[25] \"smri_vol_scs_tprh\"             \"smri_vol_scs_intracranialv\"   \n",
       "[27] \"smri_vol_scs_subcorticalgv\"    \"famhx_ss_moth_prob_dprs_p\"    \n",
       "[29] \"famhx_ss_moth_prob_ma_p\"       \"famhx_ss_moth_prob_nrv_p\"     \n",
       "[31] \"famhx_ss_fath_prob_dprs_p\"     \"famhx_ss_fath_prob_ma_p\"      \n",
       "[33] \"famhx_ss_fath_prob_nrv_p\"      \"famhx_ss_momdad_dprs_p\"       \n",
       "[35] \"famhx_ss_momdad_ma_p\"          \"famhx_ss_momdad_nrv_p\"        \n",
       "[37] \"famhx_ss_parent_dprs_p\"        \"famhx_ss_parent_ma_p\"         \n",
       "[39] \"famhx_ss_parent_nrv_p\"         \"demo_comb_income_v2\"          \n",
       "[41] \"demo_prnt_ed_v2\"               \"famhx_ss_moth_addiction\"      \n",
       "[43] \"famhx_ss_fath_addiction\"       \"famhx_ss_momdad_addiction\"    \n",
       "[45] \"famhx_ss_parent_addiction_bin\" \"famhx_ss_parent_dprs_bin\"     \n",
       "[47] \"famhx_ss_parent_ma_bin\"        \"famhx_ss_parent_nrv_bin\"      \n",
       "[49] \"interview_age.z\"               \"acs_raked_propensity_score.z\" \n",
       "[51] \"smri_vol_scs_aal.z\"            \"smri_vol_scs_aar.z\"           \n",
       "[53] \"smri_vol_scs_amygdalalh.z\"     \"smri_vol_scs_amygdalarh.z\"    \n",
       "[55] \"smri_vol_scs_caudatelh.z\"      \"smri_vol_scs_caudaterh.z\"     \n",
       "[57] \"smri_vol_scs_hpuslh.z\"         \"smri_vol_scs_hpusrh.z\"        \n",
       "[59] \"smri_vol_scs_pallidumlh.z\"     \"smri_vol_scs_pallidumrh.z\"    \n",
       "[61] \"smri_vol_scs_putamenlh.z\"      \"smri_vol_scs_putamenrh.z\"     \n",
       "[63] \"smri_vol_scs_tplh.z\"           \"smri_vol_scs_tprh.z\"          \n",
       "[65] \"smri_vol_scs_intracranialv.z\"  \"smri_vol_scs_subcorticalgv.z\" \n",
       "[67] \"demo_prnt_ed_v2.z\"            "
      ]
     },
     "metadata": {},
     "output_type": "display_data"
    }
   ],
   "source": [
    "head(df, 5) #inspect dataframe\n",
    "colnames(df)"
   ]
  },
  {
   "cell_type": "markdown",
   "id": "yellow-adolescent",
   "metadata": {},
   "source": [
    "### Linear Mixed Model\n",
    "#### Nested design - either parent (momdad) psychopathology\n",
    "\n",
    "This part of the script was used for all analyses.\n",
    "I only changed the varname <- c('XXXXX') and outome variable in the m1a model m1a <- lmer(data=df4, XXXXX ~\n",
    "I copied and pasted the Cohen's D and p values manually to excel. The values are saved in the LMM_cohend.csv and LMM_p.csv files. \n",
    "Heatmaps were created with python (see /shared/project-psychopathology-risk/code/tests/heatmaps.ipynb for scripts and /shared/project-psychopathology-risk/outputs/LMM/*.png for images)"
   ]
  },
  {
   "cell_type": "code",
   "execution_count": null,
   "id": "through-offer",
   "metadata": {},
   "outputs": [],
   "source": [
    "varname <- c('smri_vol_scs_caudatelh.z') #adjust to outcome variable of interest\n",
    "var <- 'smri_vol_scs_caudatelh.z'\n",
    "Y <- df[varname]\n",
    "dim(Y)"
   ]
  },
  {
   "cell_type": "code",
   "execution_count": null,
   "id": "swedish-quantum",
   "metadata": {},
   "outputs": [],
   "source": [
    "# Remove outliers >3SD & <3SD  \n",
    "df2 <- df[!rowSums(Y >3 | Y < -3),]\n",
    "Y <- df2[varname]\n",
    "dim(Y)\n",
    "# Remove NA\n",
    "df4 <- df2[!is.na(Y), ]\n",
    "Y <- df2[varname]\n",
    "dim(Y)"
   ]
  },
  {
   "cell_type": "code",
   "execution_count": null,
   "id": "private-deposit",
   "metadata": {},
   "outputs": [],
   "source": [
    "#optional test whether min and max value are within -3 and 3 range and whether NAs are removed \n",
    "min(Y) \n",
    "max(Y) "
   ]
  },
  {
   "cell_type": "code",
   "execution_count": 32,
   "id": "sophisticated-digest",
   "metadata": {},
   "outputs": [
    {
     "ename": "ERROR",
     "evalue": "Error in parse(text = x, srcfile = src): <text>:19:5: unexpected symbol\n18:     \n19:     df2\n        ^\n",
     "output_type": "error",
     "traceback": [
      "Error in parse(text = x, srcfile = src): <text>:19:5: unexpected symbol\n18:     \n19:     df2\n        ^\nTraceback:\n"
     ]
    }
   ],
   "source": [
    "# Select all outcome variables of interest\n",
    "ROI.names <- colnames(df)[grep(\"^(?=.*smri_vol_scs.*.z$)(?!.*smri_vol_scs_intracranialv.z)\", \n",
    "                               colnames(df), perl=TRUE)]\n",
    "no.ROI <- length(ROI.names)\n",
    "\n",
    "# create a named list to hold the fitted models\n",
    "fitlist <- as.list(1:no.ROI)\n",
    "names(fitlist) <- ROI.names\n",
    "\n",
    "# loop over lipid names\n",
    "for(i in ROI.names){ \n",
    "    \n",
    "    # print status\n",
    "    print(paste(\"Removing outliers >3SD & <3SD and NA for outocome variable:\", i, \"which is\", which(ROI.names==i), \"out of\", no.ROI))\n",
    "    \n",
    "    # Remove outliers >3SD & <3SD  \n",
    "    Y <- df(paste(ROI.names[i])\n",
    "    \n",
    "    df2 <- df[!rowSums(Y >3 | Y < -3),]\n",
    "    Y <- df2[past(ROI.names[i])]\n",
    "    \n",
    "    # Remove NA\n",
    "    df3 <- df2[!is.na(Y), ]\n",
    "    }"
   ]
  },
  {
   "cell_type": "code",
   "execution_count": 36,
   "id": "loved-property",
   "metadata": {},
   "outputs": [
    {
     "ename": "ERROR",
     "evalue": "Error in parse(text = x, srcfile = src): <text>:2:0: unexpected end of input\n1: df[paste(ROI.names[1])\n   ^\n",
     "output_type": "error",
     "traceback": [
      "Error in parse(text = x, srcfile = src): <text>:2:0: unexpected end of input\n1: df[paste(ROI.names[1])\n   ^\nTraceback:\n"
     ]
    }
   ],
   "source": [
    "df[paste(ROI.names[1]"
   ]
  },
  {
   "cell_type": "code",
   "execution_count": 7,
   "id": "parental-front",
   "metadata": {},
   "outputs": [
    {
     "ename": "ERROR",
     "evalue": "Error in parse(text = x, srcfile = src): <text>:45:0: unexpected end of input\n43:   # assign fit to list by name\n44: #fitlist[[i]] <- lmer(fml,data=df3)\n   ^\n",
     "output_type": "error",
     "traceback": [
      "Error in parse(text = x, srcfile = src): <text>:45:0: unexpected end of input\n43:   # assign fit to list by name\n44: #fitlist[[i]] <- lmer(fml,data=df3)\n   ^\nTraceback:\n"
     ]
    }
   ],
   "source": [
    "# Select all outcome variables of interest\n",
    "ROI.names <- colnames(df)[grep(\"^(?=.*smri_vol_scs.*.z$)(?!.*smri_vol_scs_intracranialv.z)\", \n",
    "                               colnames(df), perl=TRUE)]\n",
    "no.ROI <- length(ROI.names)\n",
    "\n",
    "# create a named list to hold the fitted models\n",
    "fitlist <- as.list(1:no.ROI)\n",
    "names(fitlist) <- ROI.names\n",
    "\n",
    "# loop over lipid names\n",
    "for(i in ROI.names){ \n",
    "    \n",
    "    # print status\n",
    "    print(paste(\"Removing outliers >3SD & <3SD and NA for outocome variable:\", i, \"which is\", which(ROI.names==i), \"out of\", no.ROI))\n",
    "    \n",
    "    # Remove outliers >3SD & <3SD  \n",
    "    Y <- df[ROI.names[i]]\n",
    "    df2 <- df[!rowSums(Y >3 | Y < -3),]\n",
    "    Y <- df2[ROI.names[i]]\n",
    "    \n",
    "    # Remove NA\n",
    "    df3 <- df2[!is.na(Y), ]\n",
    "    \n",
    "  # print status\n",
    "  print(paste(\"Running LMM for outcome variable:\", i, \"which is\", which(ROI.names==i), \"out of\", no.ROI))\n",
    "\n",
    "  fml <- as.formula(paste(ROI.names[i], \"~ smri_vol_scs_intracranialv.z + interview_age.z + sex + race_ethnicity +\n",
    "                    pds_p_ss_female_category + demo_prnt_ed_v2.z + demo_comb_income_v2 + \n",
    "                    famhx_ss_momdad_dprs_p + famhx_ss_momdad_addiction + famhx_ss_momdad_ma_p +\n",
    "                    famhx_ss_momdad_nrv_p + famhx_ss_momdad_dprs_p:famhx_ss_momdad_addiction +\n",
    "                    famhx_ss_momdad_dprs_p:famhx_ss_momdad_ma_p + \n",
    "                    famhx_ss_momdad_addiction:famhx_ss_momdad_ma_p +\n",
    "                    famhx_ss_momdad_dprs_p:famhx_ss_momdad_nrv_p +\n",
    "                    famhx_ss_momdad_addiction:famhx_ss_momdad_nrv_p +\n",
    "                    famhx_ss_momdad_ma_p:famhx_ss_momdad_nrv_p + \n",
    "                    famhx_ss_momdad_dprs_p:famhx_ss_momdad_addiction:famhx_ss_momdad_ma_p +\n",
    "                    famhx_ss_momdad_dprs_p:famhx_ss_momdad_addiction:famhx_ss_momdad_nrv_p +\n",
    "                    famhx_ss_momdad_dprs_p:famhx_ss_momdad_ma_p:famhx_ss_momdad_nrv_p +\n",
    "                    famhx_ss_momdad_addiction:famhx_ss_momdad_ma_p:famhx_ss_momdad_nrv_p + \n",
    "                    (1|site_id_l/rel_family_id)\"))\n",
    "\n",
    "# assign fit to list by name\n",
    "#fitlist[[i]] <- lmer(fml,data=df3)"
   ]
  },
  {
   "cell_type": "code",
   "execution_count": 9,
   "id": "loving-payment",
   "metadata": {},
   "outputs": [
    {
     "ename": "ERROR",
     "evalue": "Error in paste(ROI.names[i], \"~ smri_vol_scs_intracranialv.z + interview_age.z + sex + race_ethnicity +\\n                    pds_p_ss_female_category + demo_prnt_ed_v2.z + demo_comb_income_v2 + \\n                    famhx_ss_momdad_dprs_p + famhx_ss_momdad_addiction + famhx_ss_momdad_ma_p +\\n                    famhx_ss_momdad_nrv_p + famhx_ss_momdad_dprs_p:famhx_ss_momdad_addiction +\\n                    famhx_ss_momdad_dprs_p:famhx_ss_momdad_ma_p + \\n                    famhx_ss_momdad_addiction:famhx_ss_momdad_ma_p +\\n                    famhx_ss_momdad_dprs_p:famhx_ss_momdad_nrv_p +\\n                    famhx_ss_momdad_addiction:famhx_ss_momdad_nrv_p +\\n                    famhx_ss_momdad_ma_p:famhx_ss_momdad_nrv_p + \\n                    famhx_ss_momdad_dprs_p:famhx_ss_momdad_addiction:famhx_ss_momdad_ma_p +\\n                    famhx_ss_momdad_dprs_p:famhx_ss_momdad_addiction:famhx_ss_momdad_nrv_p +\\n                    famhx_ss_momdad_dprs_p:famhx_ss_momdad_ma_p:famhx_ss_momdad_nrv_p +\\n                    famhx_ss_momdad_addiction:famhx_ss_momdad_ma_p:famhx_ss_momdad_nrv_p + \\n                    (1|site_id_l/rel_family_id)\"): object 'ROI.names' not found\n",
     "output_type": "error",
     "traceback": [
      "Error in paste(ROI.names[i], \"~ smri_vol_scs_intracranialv.z + interview_age.z + sex + race_ethnicity +\\n                    pds_p_ss_female_category + demo_prnt_ed_v2.z + demo_comb_income_v2 + \\n                    famhx_ss_momdad_dprs_p + famhx_ss_momdad_addiction + famhx_ss_momdad_ma_p +\\n                    famhx_ss_momdad_nrv_p + famhx_ss_momdad_dprs_p:famhx_ss_momdad_addiction +\\n                    famhx_ss_momdad_dprs_p:famhx_ss_momdad_ma_p + \\n                    famhx_ss_momdad_addiction:famhx_ss_momdad_ma_p +\\n                    famhx_ss_momdad_dprs_p:famhx_ss_momdad_nrv_p +\\n                    famhx_ss_momdad_addiction:famhx_ss_momdad_nrv_p +\\n                    famhx_ss_momdad_ma_p:famhx_ss_momdad_nrv_p + \\n                    famhx_ss_momdad_dprs_p:famhx_ss_momdad_addiction:famhx_ss_momdad_ma_p +\\n                    famhx_ss_momdad_dprs_p:famhx_ss_momdad_addiction:famhx_ss_momdad_nrv_p +\\n                    famhx_ss_momdad_dprs_p:famhx_ss_momdad_ma_p:famhx_ss_momdad_nrv_p +\\n                    famhx_ss_momdad_addiction:famhx_ss_momdad_ma_p:famhx_ss_momdad_nrv_p + \\n                    (1|site_id_l/rel_family_id)\"): object 'ROI.names' not found\nTraceback:\n",
      "1. as.formula(paste(ROI.names[i], \"~ smri_vol_scs_intracranialv.z + interview_age.z + sex + race_ethnicity +\\n                    pds_p_ss_female_category + demo_prnt_ed_v2.z + demo_comb_income_v2 + \\n                    famhx_ss_momdad_dprs_p + famhx_ss_momdad_addiction + famhx_ss_momdad_ma_p +\\n                    famhx_ss_momdad_nrv_p + famhx_ss_momdad_dprs_p:famhx_ss_momdad_addiction +\\n                    famhx_ss_momdad_dprs_p:famhx_ss_momdad_ma_p + \\n                    famhx_ss_momdad_addiction:famhx_ss_momdad_ma_p +\\n                    famhx_ss_momdad_dprs_p:famhx_ss_momdad_nrv_p +\\n                    famhx_ss_momdad_addiction:famhx_ss_momdad_nrv_p +\\n                    famhx_ss_momdad_ma_p:famhx_ss_momdad_nrv_p + \\n                    famhx_ss_momdad_dprs_p:famhx_ss_momdad_addiction:famhx_ss_momdad_ma_p +\\n                    famhx_ss_momdad_dprs_p:famhx_ss_momdad_addiction:famhx_ss_momdad_nrv_p +\\n                    famhx_ss_momdad_dprs_p:famhx_ss_momdad_ma_p:famhx_ss_momdad_nrv_p +\\n                    famhx_ss_momdad_addiction:famhx_ss_momdad_ma_p:famhx_ss_momdad_nrv_p + \\n                    (1|site_id_l/rel_family_id)\"))",
      "2. paste(ROI.names[i], \"~ smri_vol_scs_intracranialv.z + interview_age.z + sex + race_ethnicity +\\n                    pds_p_ss_female_category + demo_prnt_ed_v2.z + demo_comb_income_v2 + \\n                    famhx_ss_momdad_dprs_p + famhx_ss_momdad_addiction + famhx_ss_momdad_ma_p +\\n                    famhx_ss_momdad_nrv_p + famhx_ss_momdad_dprs_p:famhx_ss_momdad_addiction +\\n                    famhx_ss_momdad_dprs_p:famhx_ss_momdad_ma_p + \\n                    famhx_ss_momdad_addiction:famhx_ss_momdad_ma_p +\\n                    famhx_ss_momdad_dprs_p:famhx_ss_momdad_nrv_p +\\n                    famhx_ss_momdad_addiction:famhx_ss_momdad_nrv_p +\\n                    famhx_ss_momdad_ma_p:famhx_ss_momdad_nrv_p + \\n                    famhx_ss_momdad_dprs_p:famhx_ss_momdad_addiction:famhx_ss_momdad_ma_p +\\n                    famhx_ss_momdad_dprs_p:famhx_ss_momdad_addiction:famhx_ss_momdad_nrv_p +\\n                    famhx_ss_momdad_dprs_p:famhx_ss_momdad_ma_p:famhx_ss_momdad_nrv_p +\\n                    famhx_ss_momdad_addiction:famhx_ss_momdad_ma_p:famhx_ss_momdad_nrv_p + \\n                    (1|site_id_l/rel_family_id)\")"
     ]
    }
   ],
   "source": [
    "  fml <- as.formula(paste(ROI.names[i], \"~ smri_vol_scs_intracranialv.z + interview_age.z + sex + race_ethnicity +\n",
    "                    pds_p_ss_female_category + demo_prnt_ed_v2.z + demo_comb_income_v2 + \n",
    "                    famhx_ss_momdad_dprs_p + famhx_ss_momdad_addiction + famhx_ss_momdad_ma_p +\n",
    "                    famhx_ss_momdad_nrv_p + famhx_ss_momdad_dprs_p:famhx_ss_momdad_addiction +\n",
    "                    famhx_ss_momdad_dprs_p:famhx_ss_momdad_ma_p + \n",
    "                    famhx_ss_momdad_addiction:famhx_ss_momdad_ma_p +\n",
    "                    famhx_ss_momdad_dprs_p:famhx_ss_momdad_nrv_p +\n",
    "                    famhx_ss_momdad_addiction:famhx_ss_momdad_nrv_p +\n",
    "                    famhx_ss_momdad_ma_p:famhx_ss_momdad_nrv_p + \n",
    "                    famhx_ss_momdad_dprs_p:famhx_ss_momdad_addiction:famhx_ss_momdad_ma_p +\n",
    "                    famhx_ss_momdad_dprs_p:famhx_ss_momdad_addiction:famhx_ss_momdad_nrv_p +\n",
    "                    famhx_ss_momdad_dprs_p:famhx_ss_momdad_ma_p:famhx_ss_momdad_nrv_p +\n",
    "                    famhx_ss_momdad_addiction:famhx_ss_momdad_ma_p:famhx_ss_momdad_nrv_p + \n",
    "                    (1|site_id_l/rel_family_id)\"))"
   ]
  },
  {
   "cell_type": "code",
   "execution_count": 4,
   "id": "everyday-freedom",
   "metadata": {},
   "outputs": [
    {
     "ename": "ERROR",
     "evalue": "Error in as.formula(ROI.names[i], \"~ smri_vol_scs_intracranialv.z + interview_age.z + sex + race_ethnicity +\\n                    pds_p_ss_female_category + demo_prnt_ed_v2.z + demo_comb_income_v2 + \\n                    famhx_ss_momdad_dprs_p + famhx_ss_momdad_addiction + famhx_ss_momdad_ma_p +\\n                    famhx_ss_momdad_nrv_p + famhx_ss_momdad_dprs_p:famhx_ss_momdad_addiction +\\n                    famhx_ss_momdad_dprs_p:famhx_ss_momdad_ma_p + \\n                    famhx_ss_momdad_addiction:famhx_ss_momdad_ma_p +\\n                    famhx_ss_momdad_dprs_p:famhx_ss_momdad_nrv_p +\\n                    famhx_ss_momdad_addiction:famhx_ss_momdad_nrv_p +\\n                    famhx_ss_momdad_ma_p:famhx_ss_momdad_nrv_p + \\n                    famhx_ss_momdad_dprs_p:famhx_ss_momdad_addiction:famhx_ss_momdad_ma_p +\\n                    famhx_ss_momdad_dprs_p:famhx_ss_momdad_addiction:famhx_ss_momdad_nrv_p +\\n                    famhx_ss_momdad_dprs_p:famhx_ss_momdad_ma_p:famhx_ss_momdad_nrv_p +\\n                    famhx_ss_momdad_addiction:famhx_ss_momdad_ma_p:famhx_ss_momdad_nrv_p + \\n                    (1|site_id_l/rel_family_id)\"): object 'ROI.names' not found\n",
     "output_type": "error",
     "traceback": [
      "Error in as.formula(ROI.names[i], \"~ smri_vol_scs_intracranialv.z + interview_age.z + sex + race_ethnicity +\\n                    pds_p_ss_female_category + demo_prnt_ed_v2.z + demo_comb_income_v2 + \\n                    famhx_ss_momdad_dprs_p + famhx_ss_momdad_addiction + famhx_ss_momdad_ma_p +\\n                    famhx_ss_momdad_nrv_p + famhx_ss_momdad_dprs_p:famhx_ss_momdad_addiction +\\n                    famhx_ss_momdad_dprs_p:famhx_ss_momdad_ma_p + \\n                    famhx_ss_momdad_addiction:famhx_ss_momdad_ma_p +\\n                    famhx_ss_momdad_dprs_p:famhx_ss_momdad_nrv_p +\\n                    famhx_ss_momdad_addiction:famhx_ss_momdad_nrv_p +\\n                    famhx_ss_momdad_ma_p:famhx_ss_momdad_nrv_p + \\n                    famhx_ss_momdad_dprs_p:famhx_ss_momdad_addiction:famhx_ss_momdad_ma_p +\\n                    famhx_ss_momdad_dprs_p:famhx_ss_momdad_addiction:famhx_ss_momdad_nrv_p +\\n                    famhx_ss_momdad_dprs_p:famhx_ss_momdad_ma_p:famhx_ss_momdad_nrv_p +\\n                    famhx_ss_momdad_addiction:famhx_ss_momdad_ma_p:famhx_ss_momdad_nrv_p + \\n                    (1|site_id_l/rel_family_id)\"): object 'ROI.names' not found\nTraceback:\n",
      "1. as.formula(ROI.names[i], \"~ smri_vol_scs_intracranialv.z + interview_age.z + sex + race_ethnicity +\\n                    pds_p_ss_female_category + demo_prnt_ed_v2.z + demo_comb_income_v2 + \\n                    famhx_ss_momdad_dprs_p + famhx_ss_momdad_addiction + famhx_ss_momdad_ma_p +\\n                    famhx_ss_momdad_nrv_p + famhx_ss_momdad_dprs_p:famhx_ss_momdad_addiction +\\n                    famhx_ss_momdad_dprs_p:famhx_ss_momdad_ma_p + \\n                    famhx_ss_momdad_addiction:famhx_ss_momdad_ma_p +\\n                    famhx_ss_momdad_dprs_p:famhx_ss_momdad_nrv_p +\\n                    famhx_ss_momdad_addiction:famhx_ss_momdad_nrv_p +\\n                    famhx_ss_momdad_ma_p:famhx_ss_momdad_nrv_p + \\n                    famhx_ss_momdad_dprs_p:famhx_ss_momdad_addiction:famhx_ss_momdad_ma_p +\\n                    famhx_ss_momdad_dprs_p:famhx_ss_momdad_addiction:famhx_ss_momdad_nrv_p +\\n                    famhx_ss_momdad_dprs_p:famhx_ss_momdad_ma_p:famhx_ss_momdad_nrv_p +\\n                    famhx_ss_momdad_addiction:famhx_ss_momdad_ma_p:famhx_ss_momdad_nrv_p + \\n                    (1|site_id_l/rel_family_id)\")"
     ]
    }
   ],
   "source": [
    "               # create temporary data matrix and model formula\n",
    "  fml <- as.formula( paste( i, \"~\", \n",
    "                    paste(c('smri_vol_scs_intracranialv.z', 'interview_age.z', \n",
    "                            'sex', 'race_ethnicity', 'pds_p_ss_female_category',\n",
    "                            'demo_prnt_ed_v2.z', 'demo_comb_income_v2', \n",
    "                            'famhx_ss_momdad_dprs_p', 'famhx_ss_momdad_addiction', \n",
    "                            'famhx_ss_momdad_ma_p', 'famhx_ss_momdad_nrv_p', \n",
    "                            'famhx_ss_momdad_dprs_p:famhx_ss_momdad_addiction',\n",
    "                            'famhx_ss_momdad_dprs_p:famhx_ss_momdad_ma_p',\n",
    "                            'famhx_ss_momdad_addiction:famhx_ss_momdad_ma_p',\n",
    "                            'famhx_ss_momdad_dprs_p:famhx_ss_momdad_nrv_p',\n",
    "                            'famhx_ss_momdad_addiction:famhx_ss_momdad_nrv_p',\n",
    "                            'famhx_ss_momdad_ma_p:famhx_ss_momdad_nrv_p',\n",
    "                            'famhx_ss_momdad_dprs_p:famhx_ss_momdad_addiction:famhx_ss_momdad_ma_p',\n",
    "                            'famhx_ss_momdad_dprs_p:famhx_ss_momdad_addiction:famhx_ss_momdad_nrv_p',\n",
    "                            'famhx_ss_momdad_dprs_p:famhx_ss_momdad_ma_p:famhx_ss_momdad_nrv_p',\n",
    "                            'famhx_ss_momdad_addiction:famhx_ss_momdad_ma_p:famhx_ss_momdad_nrv_p',\n",
    "                                            collapse=\"+\") ) )       "
   ]
  },
  {
   "cell_type": "code",
   "execution_count": null,
   "id": "transparent-income",
   "metadata": {},
   "outputs": [],
   "source": [
    "fml"
   ]
  },
  {
   "cell_type": "code",
   "execution_count": null,
   "id": "external-landing",
   "metadata": {},
   "outputs": [],
   "source": [
    "\n",
    "\n",
    "## Output storage step up\n",
    " results <- vector(\"list\", length(Response))\n",
    " ##Start the loop\n",
    " #Create the formula string\n",
    " stmLM <- formula(paste(Response[i]~smri_vol_scs_intracranialv.z + interview_age.z + sex + race_ethnicity \n",
    "            +  pds_p_ss_female_category + demo_prnt_ed_v2.z + demo_comb_income_v2 + \n",
    "            famhx_ss_momdad_dprs_p * famhx_ss_momdad_addiction * famhx_ss_momdad_ma_p * famhx_ss_momdad_nrv_p +\n",
    "             (1|site_id_l/rel_family_id)))\n",
    "                     \n"
   ]
  },
  {
   "cell_type": "code",
   "execution_count": null,
   "id": "overhead-manitoba",
   "metadata": {},
   "outputs": [],
   "source": [
    "# CHANGE THE OUTCOME VARIABLE \n",
    "m1a <- lmer(data=df4,  ~ smri_vol_scs_intracranialv.z + interview_age.z + sex + race_ethnicity \n",
    "            +  pds_p_ss_female_category + demo_prnt_ed_v2.z + demo_comb_income_v2 + \n",
    "            famhx_ss_momdad_dprs_p * famhx_ss_momdad_addiction * famhx_ss_momdad_ma_p * famhx_ss_momdad_nrv_p +\n",
    "             (1|site_id_l/rel_family_id), na.action = \"na.omit\") #nested random effects\n",
    "\n",
    "lme.dscore(m1a,data=df4,type=\"lme4\") #Cohen's d\n",
    "summ(m1a)"
   ]
  },
  {
   "cell_type": "code",
   "execution_count": null,
   "id": "drawn-boring",
   "metadata": {},
   "outputs": [],
   "source": [
    "full_results <-\n",
    "   map(reg_vars, function(i) {\n",
    "      summary(lmerTest::lmer(paste0(\"log(\", i, \"_2)~\", i, \"_1+chkgp+(1|ID)\"),\n",
    "                   data = dataset))\n",
    "   })\n",
    "\n",
    "\n",
    " "
   ]
  },
  {
   "cell_type": "code",
   "execution_count": null,
   "id": "polished-effectiveness",
   "metadata": {},
   "outputs": [],
   "source": [
    "results <- map_dfr(full_results, function(.x) {\n",
    "   data.frame( \n",
    "      # extract indep_var name and replace \"1\" with \"2\"\n",
    "      depend_var = paste0(substr(row.names(.x$coefficients)[2], 1, 2), \"2\"),\n",
    "      # extract depend_var name\n",
    "      indep_var = row.names(.x$coefficients)[2],\n",
    "      # Get the coefficient associated with chkgpTrtmnt\n",
    "      mean_difference = .x$coefficients[3, 1],\n",
    "      # Get std. error\n",
    "      se = .x$coefficients[3, 2],\n",
    "      # Get p-value\n",
    "      p.value = .x$coefficients[3, 5],\n",
    "      # Calculate the CI by +/- 1.96 * the standard error\n",
    "      lower_ci = (.x$coefficients[3, 1] - (1.96 * .x$coefficients[3, 4])),\n",
    "      upper_ci = (.x$coefficients[3, 1] + (1.96 * .x$coefficients[3, 4]))\n",
    "   )\n",
    "})"
   ]
  },
  {
   "cell_type": "markdown",
   "id": "operating-planning",
   "metadata": {},
   "source": [
    "### To do: insert code for family wise error correction"
   ]
  },
  {
   "cell_type": "code",
   "execution_count": null,
   "id": "wicked-detail",
   "metadata": {},
   "outputs": [],
   "source": [
    "#FWER\n",
    "library(data.table)\n",
    "pvals <- read.csv(\"/shared/project-psychopathology-risk/outputs/LMM/LMM_p.csv\")\n",
    "p_aal <- transpose(pvals[6,2:15])\n",
    "colnames(p_aal) <- c(\"pval\")\n",
    "p_aal$order <- seq(1, nrow(p_aal),1)\n",
    "p_aal <- p_aal[order(p_aal$pval),]\n",
    "p_aal$padj <- round(p.adjust(p_aal$pval, \"BH\"), 3)\n",
    "p_aal <- p_aal[order(p_aal$order),]\n",
    "p_aal"
   ]
  },
  {
   "cell_type": "markdown",
   "id": "cutting-damages",
   "metadata": {},
   "source": [
    "### Plot interactions"
   ]
  },
  {
   "cell_type": "code",
   "execution_count": null,
   "id": "round-poker",
   "metadata": {},
   "outputs": [],
   "source": [
    "# libraries\n",
    "library(ggplot2)\n",
    "library(ggeffects)\n",
    "library(sjPlot)\n",
    "library(sjmisc)\n",
    "library(plyr)"
   ]
  },
  {
   "cell_type": "code",
   "execution_count": null,
   "id": "temporal-groove",
   "metadata": {},
   "outputs": [],
   "source": [
    "df5 <- df4\n",
    "str(df5)"
   ]
  },
  {
   "cell_type": "code",
   "execution_count": null,
   "id": "documentary-fundamentals",
   "metadata": {},
   "outputs": [],
   "source": [
    "#Change names for plots\n",
    "df5$Depression <- df5$famhx_ss_momdad_dprs_p\n",
    "df5$Mania <- df5$famhx_ss_momdad_ma_p\n",
    "df5$Addiction <- df5$famhx_ss_momdad_addiction \n",
    "                          \n",
    "df5$Addiction <- factor(df5$Addiction, labels = c(\"Addiction = no\", \"Addiction = yes\"))\n",
    "df5$Depression <- factor(df5$Depression, labels = c(\"no\", \"yes\"))\n",
    "df5$Mania <- factor(df5$Mania, labels = c(\"no\", \"yes\"))"
   ]
  },
  {
   "cell_type": "code",
   "execution_count": null,
   "id": "spare-tuning",
   "metadata": {},
   "outputs": [],
   "source": [
    "# As m1a dropped a few interactions, plots cannot be created with ggpredict. \n",
    "#m1b specifies only included interactions\n",
    "m1b <- lmer(data=df5, smri_vol_scs_caudatelh.z ~ smri_vol_scs_intracranialv.z + interview_age.z + sex + \n",
    "            race_ethnicity +  pds_p_ss_female_category + demo_prnt_ed_v2.z + demo_comb_income_v2 + \n",
    "            Depression + Addiction + Mania + \n",
    "            famhx_ss_momdad_nrv_p + Depression:Addiction + \n",
    "            Depression:Mania + Addiction:Mania +\n",
    "            Depression:famhx_ss_momdad_nrv_p + \n",
    "            Addiction:famhx_ss_momdad_nrv_p + \n",
    "            Mania:famhx_ss_momdad_nrv_p + \n",
    "            Depression:Addiction:Mania +\n",
    "            Depression:Addiction:famhx_ss_momdad_nrv_p + \n",
    "            Depression:Mania:famhx_ss_momdad_nrv_p +\n",
    "            Addiction:Mania:famhx_ss_momdad_nrv_p +  \n",
    "             (1|site_id_l/rel_family_id), na.action = \"na.omit\") #nested random effects"
   ]
  },
  {
   "cell_type": "code",
   "execution_count": null,
   "id": "cooked-science",
   "metadata": {},
   "outputs": [],
   "source": [
    "#two-way interaction\n",
    "\n",
    "\n",
    "set_theme(\n",
    "    base = theme_classic(),\n",
    "  geom.label.color = \"black\",\n",
    "  title.size = 1, \n",
    "  axis.angle.x = 0, \n",
    "  axis.textcolor = \"black\",\n",
    "    axis.textsize = 1.5\n",
    ")\n",
    "\n",
    "\n",
    "p <- plot_model(m1b, type = \"pred\", terms = c(\"Depression\", \"Mania\"), auto.label = FALSE)\n",
    "p"
   ]
  },
  {
   "cell_type": "markdown",
   "id": "south-supervision",
   "metadata": {},
   "source": [
    "##### Interpretation of two-way interaction\n",
    "Children with a parental history of depression and mania have higher left caudate volume than children with a parental history of depression alone. "
   ]
  },
  {
   "cell_type": "code",
   "execution_count": null,
   "id": "swedish-ivory",
   "metadata": {},
   "outputs": [],
   "source": [
    "#three-way interaction\n",
    "p2 <- plot_model(m1b, type = \"pred\", terms = c(\"Depression\", \"Mania\", \"Addiction\"))\n",
    "p2\n",
    "               \n",
    "               "
   ]
  },
  {
   "cell_type": "markdown",
   "id": "concerned-television",
   "metadata": {},
   "source": [
    "##### Interpretation 3-way interaction depression*mania*addiction\n",
    "Children with parental history of depression and mania have higher left caudate volumes than children with parental history of depression without mania. However, this difference is only observed if no parental history of addiction problems was reported.  "
   ]
  },
  {
   "cell_type": "code",
   "execution_count": null,
   "id": "spatial-developer",
   "metadata": {},
   "outputs": [],
   "source": [
    "## Plot based on ggplot\n",
    "\n",
    "ggplot(df1, aes(iq, grades, col = class)) + \n",
    "    geom_point(size = 3) + # change size and colour\n",
    "    labs(y = \"Exam grades (0 to 100)\", x = \"Intelligence (IQ)\") + # rename axes\n",
    "    scale_y_continuous(limits = c(0, 100), breaks = c(0, 20, 40, 60, 80, 100)) + # y axis limits/range (0, 100), break points\n",
    "    scale_x_continuous(limits = c(90, 130)) + # x axis limits/range \n",
    "    geom_smooth(method = 'lm', se = F) + # fit linear regression line \n",
    "    geom_smooth(method = 'lm', se = F, aes(group = 1))"
   ]
  },
  {
   "cell_type": "code",
   "execution_count": null,
   "id": "adjusted-spouse",
   "metadata": {},
   "outputs": [],
   "source": []
  }
 ],
 "metadata": {
  "kernelspec": {
   "display_name": "R",
   "language": "R",
   "name": "ir"
  },
  "language_info": {
   "codemirror_mode": "r",
   "file_extension": ".r",
   "mimetype": "text/x-r-source",
   "name": "R",
   "pygments_lexer": "r",
   "version": "4.0.3"
  }
 },
 "nbformat": 4,
 "nbformat_minor": 5
}
