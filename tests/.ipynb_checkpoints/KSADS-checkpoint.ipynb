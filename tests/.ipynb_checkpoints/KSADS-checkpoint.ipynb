{
 "cells": [
  {
   "cell_type": "code",
   "execution_count": 3,
   "id": "fifty-pathology",
   "metadata": {},
   "outputs": [
    {
     "name": "stderr",
     "output_type": "stream",
     "text": [
      "\n",
      "Attaching package: ‘dplyr’\n",
      "\n",
      "\n",
      "The following objects are masked from ‘package:stats’:\n",
      "\n",
      "    filter, lag\n",
      "\n",
      "\n",
      "The following objects are masked from ‘package:base’:\n",
      "\n",
      "    intersect, setdiff, setequal, union\n",
      "\n",
      "\n"
     ]
    }
   ],
   "source": [
    "#install.packages(\"dplyr\")\n",
    "library(dplyr)"
   ]
  },
  {
   "cell_type": "code",
   "execution_count": 5,
   "id": "small-intention",
   "metadata": {},
   "outputs": [],
   "source": [
    "ksads <- subset(read.delim(\"/shared/project-psychopathology-risk/inputs/data/dataset1/abcd_ksad01.txt\"),eventname==\"baseline_year_1_arm_1\")\n",
    "#treat missing as 0#\n",
    "ksads[ksads == 888] <- 0\n",
    "ksads[ksads == 555] <- 0"
   ]
  },
  {
   "cell_type": "code",
   "execution_count": 11,
   "id": "cubic-female",
   "metadata": {},
   "outputs": [
    {
     "data": {
      "text/html": [
       "<table class=\"dataframe\">\n",
       "<caption>A data.frame: 6 × 10</caption>\n",
       "<thead>\n",
       "\t<tr><th></th><th scope=col>subjectkey</th><th scope=col>ksads_1_840_p</th><th scope=col>ksads_1_841_p</th><th scope=col>ksads_1_842_p</th><th scope=col>ksads_1_843_p</th><th scope=col>ksads_1_844_p</th><th scope=col>ksads_1_845_p</th><th scope=col>ksads_1_846_p</th><th scope=col>ksads_1_847_p</th><th scope=col>LT</th></tr>\n",
       "\t<tr><th></th><th scope=col>&lt;chr&gt;</th><th scope=col>&lt;dbl&gt;</th><th scope=col>&lt;dbl&gt;</th><th scope=col>&lt;dbl&gt;</th><th scope=col>&lt;dbl&gt;</th><th scope=col>&lt;dbl&gt;</th><th scope=col>&lt;dbl&gt;</th><th scope=col>&lt;dbl&gt;</th><th scope=col>&lt;dbl&gt;</th><th scope=col>&lt;dbl&gt;</th></tr>\n",
       "</thead>\n",
       "<tbody>\n",
       "\t<tr><th scope=row>3</th><td>NDAR_INV005V6D2C</td><td>0</td><td>0</td><td>0</td><td>0</td><td>0</td><td>0</td><td>0</td><td>0</td><td>0</td></tr>\n",
       "\t<tr><th scope=row>4</th><td>NDAR_INV019DXLU4</td><td>0</td><td>0</td><td>0</td><td>0</td><td>0</td><td>0</td><td>0</td><td>0</td><td>0</td></tr>\n",
       "\t<tr><th scope=row>5</th><td>NDAR_INV00HEV6HB</td><td>0</td><td>0</td><td>0</td><td>0</td><td>0</td><td>0</td><td>0</td><td>0</td><td>0</td></tr>\n",
       "\t<tr><th scope=row>6</th><td>NDAR_INV00J52GPG</td><td>0</td><td>0</td><td>0</td><td>0</td><td>0</td><td>0</td><td>0</td><td>0</td><td>0</td></tr>\n",
       "\t<tr><th scope=row>10</th><td>NDAR_INV01EN91PG</td><td>0</td><td>0</td><td>0</td><td>0</td><td>0</td><td>0</td><td>0</td><td>0</td><td>0</td></tr>\n",
       "\t<tr><th scope=row>11</th><td>NDAR_INV01RGTWD2</td><td>0</td><td>0</td><td>0</td><td>0</td><td>0</td><td>0</td><td>0</td><td>0</td><td>0</td></tr>\n",
       "</tbody>\n",
       "</table>\n"
      ],
      "text/latex": [
       "A data.frame: 6 × 10\n",
       "\\begin{tabular}{r|llllllllll}\n",
       "  & subjectkey & ksads\\_1\\_840\\_p & ksads\\_1\\_841\\_p & ksads\\_1\\_842\\_p & ksads\\_1\\_843\\_p & ksads\\_1\\_844\\_p & ksads\\_1\\_845\\_p & ksads\\_1\\_846\\_p & ksads\\_1\\_847\\_p & LT\\\\\n",
       "  & <chr> & <dbl> & <dbl> & <dbl> & <dbl> & <dbl> & <dbl> & <dbl> & <dbl> & <dbl>\\\\\n",
       "\\hline\n",
       "\t3 & NDAR\\_INV005V6D2C & 0 & 0 & 0 & 0 & 0 & 0 & 0 & 0 & 0\\\\\n",
       "\t4 & NDAR\\_INV019DXLU4 & 0 & 0 & 0 & 0 & 0 & 0 & 0 & 0 & 0\\\\\n",
       "\t5 & NDAR\\_INV00HEV6HB & 0 & 0 & 0 & 0 & 0 & 0 & 0 & 0 & 0\\\\\n",
       "\t6 & NDAR\\_INV00J52GPG & 0 & 0 & 0 & 0 & 0 & 0 & 0 & 0 & 0\\\\\n",
       "\t10 & NDAR\\_INV01EN91PG & 0 & 0 & 0 & 0 & 0 & 0 & 0 & 0 & 0\\\\\n",
       "\t11 & NDAR\\_INV01RGTWD2 & 0 & 0 & 0 & 0 & 0 & 0 & 0 & 0 & 0\\\\\n",
       "\\end{tabular}\n"
      ],
      "text/markdown": [
       "\n",
       "A data.frame: 6 × 10\n",
       "\n",
       "| <!--/--> | subjectkey &lt;chr&gt; | ksads_1_840_p &lt;dbl&gt; | ksads_1_841_p &lt;dbl&gt; | ksads_1_842_p &lt;dbl&gt; | ksads_1_843_p &lt;dbl&gt; | ksads_1_844_p &lt;dbl&gt; | ksads_1_845_p &lt;dbl&gt; | ksads_1_846_p &lt;dbl&gt; | ksads_1_847_p &lt;dbl&gt; | LT &lt;dbl&gt; |\n",
       "|---|---|---|---|---|---|---|---|---|---|---|\n",
       "| 3 | NDAR_INV005V6D2C | 0 | 0 | 0 | 0 | 0 | 0 | 0 | 0 | 0 |\n",
       "| 4 | NDAR_INV019DXLU4 | 0 | 0 | 0 | 0 | 0 | 0 | 0 | 0 | 0 |\n",
       "| 5 | NDAR_INV00HEV6HB | 0 | 0 | 0 | 0 | 0 | 0 | 0 | 0 | 0 |\n",
       "| 6 | NDAR_INV00J52GPG | 0 | 0 | 0 | 0 | 0 | 0 | 0 | 0 | 0 |\n",
       "| 10 | NDAR_INV01EN91PG | 0 | 0 | 0 | 0 | 0 | 0 | 0 | 0 | 0 |\n",
       "| 11 | NDAR_INV01RGTWD2 | 0 | 0 | 0 | 0 | 0 | 0 | 0 | 0 | 0 |\n",
       "\n"
      ],
      "text/plain": [
       "   subjectkey       ksads_1_840_p ksads_1_841_p ksads_1_842_p ksads_1_843_p\n",
       "3  NDAR_INV005V6D2C 0             0             0             0            \n",
       "4  NDAR_INV019DXLU4 0             0             0             0            \n",
       "5  NDAR_INV00HEV6HB 0             0             0             0            \n",
       "6  NDAR_INV00J52GPG 0             0             0             0            \n",
       "10 NDAR_INV01EN91PG 0             0             0             0            \n",
       "11 NDAR_INV01RGTWD2 0             0             0             0            \n",
       "   ksads_1_844_p ksads_1_845_p ksads_1_846_p ksads_1_847_p LT\n",
       "3  0             0             0             0             0 \n",
       "4  0             0             0             0             0 \n",
       "5  0             0             0             0             0 \n",
       "6  0             0             0             0             0 \n",
       "10 0             0             0             0             0 \n",
       "11 0             0             0             0             0 "
      ]
     },
     "metadata": {},
     "output_type": "display_data"
    }
   ],
   "source": [
    "#Lifetime Depression, Dysthymia, Dep NOS#\n",
    "Dep <- select(ksads,subjectkey,ksads_1_840_p,ksads_1_841_p,ksads_1_842_p,ksads_1_843_p,ksads_1_844_p, ksads_1_845_p,ksads_1_846_p,ksads_1_847_p)\n",
    "Dep[2:9] <- sapply(Dep[2:9],as.numeric)\n",
    "Dep$LT <- apply(Dep[,-1], FUN = max, MARGIN = 1, na.rm = TRUE)\n",
    "head(Dep)"
   ]
  },
  {
   "cell_type": "code",
   "execution_count": 23,
   "id": "furnished-salvation",
   "metadata": {},
   "outputs": [
    {
     "data": {
      "text/html": [
       "<table class=\"dataframe\">\n",
       "<caption>A data.frame: 6 × 12</caption>\n",
       "<thead>\n",
       "\t<tr><th></th><th scope=col>subjectkey</th><th scope=col>ksads_2_830_p</th><th scope=col>ksads_2_831_p</th><th scope=col>ksads_2_832_p</th><th scope=col>ksads_2_833_p</th><th scope=col>ksads_2_834_p</th><th scope=col>ksads_2_835_p</th><th scope=col>ksads_2_836_p</th><th scope=col>ksads_2_837_p</th><th scope=col>ksads_2_838_p</th><th scope=col>ksads_2_839_p</th><th scope=col>LT</th></tr>\n",
       "\t<tr><th></th><th scope=col>&lt;chr&gt;</th><th scope=col>&lt;dbl&gt;</th><th scope=col>&lt;dbl&gt;</th><th scope=col>&lt;dbl&gt;</th><th scope=col>&lt;dbl&gt;</th><th scope=col>&lt;dbl&gt;</th><th scope=col>&lt;dbl&gt;</th><th scope=col>&lt;dbl&gt;</th><th scope=col>&lt;dbl&gt;</th><th scope=col>&lt;dbl&gt;</th><th scope=col>&lt;dbl&gt;</th><th scope=col>&lt;dbl&gt;</th></tr>\n",
       "</thead>\n",
       "<tbody>\n",
       "\t<tr><th scope=row>3</th><td>NDAR_INV005V6D2C</td><td>0</td><td>0</td><td>0</td><td>0</td><td>0</td><td>0</td><td>0</td><td>0</td><td>0</td><td>0</td><td>0</td></tr>\n",
       "\t<tr><th scope=row>4</th><td>NDAR_INV019DXLU4</td><td>0</td><td>0</td><td>0</td><td>0</td><td>0</td><td>0</td><td>0</td><td>0</td><td>0</td><td>0</td><td>0</td></tr>\n",
       "\t<tr><th scope=row>5</th><td>NDAR_INV00HEV6HB</td><td>0</td><td>0</td><td>0</td><td>0</td><td>0</td><td>0</td><td>0</td><td>0</td><td>0</td><td>0</td><td>0</td></tr>\n",
       "\t<tr><th scope=row>6</th><td>NDAR_INV00J52GPG</td><td>0</td><td>0</td><td>0</td><td>0</td><td>0</td><td>0</td><td>0</td><td>0</td><td>0</td><td>0</td><td>0</td></tr>\n",
       "\t<tr><th scope=row>10</th><td>NDAR_INV01EN91PG</td><td>0</td><td>0</td><td>0</td><td>0</td><td>0</td><td>0</td><td>0</td><td>0</td><td>0</td><td>0</td><td>0</td></tr>\n",
       "\t<tr><th scope=row>11</th><td>NDAR_INV01RGTWD2</td><td>0</td><td>0</td><td>0</td><td>0</td><td>0</td><td>0</td><td>0</td><td>0</td><td>0</td><td>0</td><td>0</td></tr>\n",
       "</tbody>\n",
       "</table>\n"
      ],
      "text/latex": [
       "A data.frame: 6 × 12\n",
       "\\begin{tabular}{r|llllllllllll}\n",
       "  & subjectkey & ksads\\_2\\_830\\_p & ksads\\_2\\_831\\_p & ksads\\_2\\_832\\_p & ksads\\_2\\_833\\_p & ksads\\_2\\_834\\_p & ksads\\_2\\_835\\_p & ksads\\_2\\_836\\_p & ksads\\_2\\_837\\_p & ksads\\_2\\_838\\_p & ksads\\_2\\_839\\_p & LT\\\\\n",
       "  & <chr> & <dbl> & <dbl> & <dbl> & <dbl> & <dbl> & <dbl> & <dbl> & <dbl> & <dbl> & <dbl> & <dbl>\\\\\n",
       "\\hline\n",
       "\t3 & NDAR\\_INV005V6D2C & 0 & 0 & 0 & 0 & 0 & 0 & 0 & 0 & 0 & 0 & 0\\\\\n",
       "\t4 & NDAR\\_INV019DXLU4 & 0 & 0 & 0 & 0 & 0 & 0 & 0 & 0 & 0 & 0 & 0\\\\\n",
       "\t5 & NDAR\\_INV00HEV6HB & 0 & 0 & 0 & 0 & 0 & 0 & 0 & 0 & 0 & 0 & 0\\\\\n",
       "\t6 & NDAR\\_INV00J52GPG & 0 & 0 & 0 & 0 & 0 & 0 & 0 & 0 & 0 & 0 & 0\\\\\n",
       "\t10 & NDAR\\_INV01EN91PG & 0 & 0 & 0 & 0 & 0 & 0 & 0 & 0 & 0 & 0 & 0\\\\\n",
       "\t11 & NDAR\\_INV01RGTWD2 & 0 & 0 & 0 & 0 & 0 & 0 & 0 & 0 & 0 & 0 & 0\\\\\n",
       "\\end{tabular}\n"
      ],
      "text/markdown": [
       "\n",
       "A data.frame: 6 × 12\n",
       "\n",
       "| <!--/--> | subjectkey &lt;chr&gt; | ksads_2_830_p &lt;dbl&gt; | ksads_2_831_p &lt;dbl&gt; | ksads_2_832_p &lt;dbl&gt; | ksads_2_833_p &lt;dbl&gt; | ksads_2_834_p &lt;dbl&gt; | ksads_2_835_p &lt;dbl&gt; | ksads_2_836_p &lt;dbl&gt; | ksads_2_837_p &lt;dbl&gt; | ksads_2_838_p &lt;dbl&gt; | ksads_2_839_p &lt;dbl&gt; | LT &lt;dbl&gt; |\n",
       "|---|---|---|---|---|---|---|---|---|---|---|---|---|\n",
       "| 3 | NDAR_INV005V6D2C | 0 | 0 | 0 | 0 | 0 | 0 | 0 | 0 | 0 | 0 | 0 |\n",
       "| 4 | NDAR_INV019DXLU4 | 0 | 0 | 0 | 0 | 0 | 0 | 0 | 0 | 0 | 0 | 0 |\n",
       "| 5 | NDAR_INV00HEV6HB | 0 | 0 | 0 | 0 | 0 | 0 | 0 | 0 | 0 | 0 | 0 |\n",
       "| 6 | NDAR_INV00J52GPG | 0 | 0 | 0 | 0 | 0 | 0 | 0 | 0 | 0 | 0 | 0 |\n",
       "| 10 | NDAR_INV01EN91PG | 0 | 0 | 0 | 0 | 0 | 0 | 0 | 0 | 0 | 0 | 0 |\n",
       "| 11 | NDAR_INV01RGTWD2 | 0 | 0 | 0 | 0 | 0 | 0 | 0 | 0 | 0 | 0 | 0 |\n",
       "\n"
      ],
      "text/plain": [
       "   subjectkey       ksads_2_830_p ksads_2_831_p ksads_2_832_p ksads_2_833_p\n",
       "3  NDAR_INV005V6D2C 0             0             0             0            \n",
       "4  NDAR_INV019DXLU4 0             0             0             0            \n",
       "5  NDAR_INV00HEV6HB 0             0             0             0            \n",
       "6  NDAR_INV00J52GPG 0             0             0             0            \n",
       "10 NDAR_INV01EN91PG 0             0             0             0            \n",
       "11 NDAR_INV01RGTWD2 0             0             0             0            \n",
       "   ksads_2_834_p ksads_2_835_p ksads_2_836_p ksads_2_837_p ksads_2_838_p\n",
       "3  0             0             0             0             0            \n",
       "4  0             0             0             0             0            \n",
       "5  0             0             0             0             0            \n",
       "6  0             0             0             0             0            \n",
       "10 0             0             0             0             0            \n",
       "11 0             0             0             0             0            \n",
       "   ksads_2_839_p LT\n",
       "3  0             0 \n",
       "4  0             0 \n",
       "5  0             0 \n",
       "6  0             0 \n",
       "10 0             0 \n",
       "11 0             0 "
      ]
     },
     "metadata": {},
     "output_type": "display_data"
    }
   ],
   "source": [
    "#Lifetime BP1, BP2, any current stage#\n",
    "Bp <- select(ksads,subjectkey,ksads_2_830_p,ksads_2_831_p,ksads_2_832_p,ksads_2_833_p,ksads_2_834_p, ksads_2_835_p,ksads_2_836_p,ksads_2_837_p,ksads_2_838_p,ksads_2_839_p)\n",
    "Bp[2:11] <- sapply(Bp[2:11],as.numeric)\n",
    "Bp$LT <- apply(Bp[,-1], FUN = max, MARGIN = 1, na.rm = TRUE)\n",
    "head(Bp)"
   ]
  },
  {
   "cell_type": "code",
   "execution_count": 10,
   "id": "expressed-philippines",
   "metadata": {},
   "outputs": [
    {
     "data": {
      "text/html": [
       "<table class=\"dataframe\">\n",
       "<caption>A data.frame: 6 × 21</caption>\n",
       "<thead>\n",
       "\t<tr><th></th><th scope=col>subjectkey</th><th scope=col>ksads_5_906_p</th><th scope=col>ksads_5_907_p</th><th scope=col>ksads_5_857_p</th><th scope=col>ksads_5_858_p</th><th scope=col>ksads_6_908_p</th><th scope=col>ksads_6_859_p</th><th scope=col>ksads_6_860_p</th><th scope=col>ksads_7_861_p</th><th scope=col>ksads_7_862_p</th><th scope=col>⋯</th><th scope=col>ksads_7_910_p</th><th scope=col>ksads_8_863_p</th><th scope=col>ksads_8_864_p</th><th scope=col>ksads_8_911_p</th><th scope=col>ksads_8_912_p</th><th scope=col>ksads_10_913_p</th><th scope=col>ksads_10_914_p</th><th scope=col>ksads_10_869_p</th><th scope=col>ksads_10_870_p</th><th scope=col>LT</th></tr>\n",
       "\t<tr><th></th><th scope=col>&lt;chr&gt;</th><th scope=col>&lt;dbl&gt;</th><th scope=col>&lt;dbl&gt;</th><th scope=col>&lt;dbl&gt;</th><th scope=col>&lt;dbl&gt;</th><th scope=col>&lt;dbl&gt;</th><th scope=col>&lt;dbl&gt;</th><th scope=col>&lt;dbl&gt;</th><th scope=col>&lt;dbl&gt;</th><th scope=col>&lt;dbl&gt;</th><th scope=col>⋯</th><th scope=col>&lt;dbl&gt;</th><th scope=col>&lt;dbl&gt;</th><th scope=col>&lt;dbl&gt;</th><th scope=col>&lt;dbl&gt;</th><th scope=col>&lt;dbl&gt;</th><th scope=col>&lt;dbl&gt;</th><th scope=col>&lt;dbl&gt;</th><th scope=col>&lt;dbl&gt;</th><th scope=col>&lt;dbl&gt;</th><th scope=col>&lt;dbl&gt;</th></tr>\n",
       "</thead>\n",
       "<tbody>\n",
       "\t<tr><th scope=row>3</th><td>NDAR_INV005V6D2C</td><td>0</td><td>0</td><td>0</td><td>0</td><td>0</td><td>0</td><td>0</td><td>0</td><td>0</td><td>⋯</td><td>0</td><td>0</td><td>0</td><td>0</td><td>0</td><td>0</td><td>0</td><td>0</td><td>0</td><td>0</td></tr>\n",
       "\t<tr><th scope=row>4</th><td>NDAR_INV019DXLU4</td><td>0</td><td>0</td><td>0</td><td>0</td><td>0</td><td>0</td><td>0</td><td>0</td><td>0</td><td>⋯</td><td>0</td><td>0</td><td>0</td><td>0</td><td>0</td><td>0</td><td>0</td><td>0</td><td>0</td><td>0</td></tr>\n",
       "\t<tr><th scope=row>5</th><td>NDAR_INV00HEV6HB</td><td>0</td><td>0</td><td>0</td><td>0</td><td>0</td><td>0</td><td>0</td><td>0</td><td>0</td><td>⋯</td><td>0</td><td>0</td><td>0</td><td>0</td><td>0</td><td>0</td><td>0</td><td>0</td><td>0</td><td>0</td></tr>\n",
       "\t<tr><th scope=row>6</th><td>NDAR_INV00J52GPG</td><td>0</td><td>0</td><td>0</td><td>0</td><td>0</td><td>0</td><td>0</td><td>0</td><td>0</td><td>⋯</td><td>0</td><td>0</td><td>0</td><td>0</td><td>0</td><td>0</td><td>0</td><td>0</td><td>0</td><td>0</td></tr>\n",
       "\t<tr><th scope=row>10</th><td>NDAR_INV01EN91PG</td><td>0</td><td>0</td><td>0</td><td>0</td><td>0</td><td>0</td><td>0</td><td>0</td><td>0</td><td>⋯</td><td>0</td><td>0</td><td>0</td><td>0</td><td>1</td><td>0</td><td>0</td><td>0</td><td>0</td><td>1</td></tr>\n",
       "\t<tr><th scope=row>11</th><td>NDAR_INV01RGTWD2</td><td>0</td><td>0</td><td>0</td><td>0</td><td>0</td><td>0</td><td>0</td><td>0</td><td>0</td><td>⋯</td><td>0</td><td>0</td><td>0</td><td>0</td><td>0</td><td>0</td><td>0</td><td>0</td><td>0</td><td>0</td></tr>\n",
       "</tbody>\n",
       "</table>\n"
      ],
      "text/latex": [
       "A data.frame: 6 × 21\n",
       "\\begin{tabular}{r|lllllllllllllllllllll}\n",
       "  & subjectkey & ksads\\_5\\_906\\_p & ksads\\_5\\_907\\_p & ksads\\_5\\_857\\_p & ksads\\_5\\_858\\_p & ksads\\_6\\_908\\_p & ksads\\_6\\_859\\_p & ksads\\_6\\_860\\_p & ksads\\_7\\_861\\_p & ksads\\_7\\_862\\_p & ⋯ & ksads\\_7\\_910\\_p & ksads\\_8\\_863\\_p & ksads\\_8\\_864\\_p & ksads\\_8\\_911\\_p & ksads\\_8\\_912\\_p & ksads\\_10\\_913\\_p & ksads\\_10\\_914\\_p & ksads\\_10\\_869\\_p & ksads\\_10\\_870\\_p & LT\\\\\n",
       "  & <chr> & <dbl> & <dbl> & <dbl> & <dbl> & <dbl> & <dbl> & <dbl> & <dbl> & <dbl> & ⋯ & <dbl> & <dbl> & <dbl> & <dbl> & <dbl> & <dbl> & <dbl> & <dbl> & <dbl> & <dbl>\\\\\n",
       "\\hline\n",
       "\t3 & NDAR\\_INV005V6D2C & 0 & 0 & 0 & 0 & 0 & 0 & 0 & 0 & 0 & ⋯ & 0 & 0 & 0 & 0 & 0 & 0 & 0 & 0 & 0 & 0\\\\\n",
       "\t4 & NDAR\\_INV019DXLU4 & 0 & 0 & 0 & 0 & 0 & 0 & 0 & 0 & 0 & ⋯ & 0 & 0 & 0 & 0 & 0 & 0 & 0 & 0 & 0 & 0\\\\\n",
       "\t5 & NDAR\\_INV00HEV6HB & 0 & 0 & 0 & 0 & 0 & 0 & 0 & 0 & 0 & ⋯ & 0 & 0 & 0 & 0 & 0 & 0 & 0 & 0 & 0 & 0\\\\\n",
       "\t6 & NDAR\\_INV00J52GPG & 0 & 0 & 0 & 0 & 0 & 0 & 0 & 0 & 0 & ⋯ & 0 & 0 & 0 & 0 & 0 & 0 & 0 & 0 & 0 & 0\\\\\n",
       "\t10 & NDAR\\_INV01EN91PG & 0 & 0 & 0 & 0 & 0 & 0 & 0 & 0 & 0 & ⋯ & 0 & 0 & 0 & 0 & 1 & 0 & 0 & 0 & 0 & 1\\\\\n",
       "\t11 & NDAR\\_INV01RGTWD2 & 0 & 0 & 0 & 0 & 0 & 0 & 0 & 0 & 0 & ⋯ & 0 & 0 & 0 & 0 & 0 & 0 & 0 & 0 & 0 & 0\\\\\n",
       "\\end{tabular}\n"
      ],
      "text/markdown": [
       "\n",
       "A data.frame: 6 × 21\n",
       "\n",
       "| <!--/--> | subjectkey &lt;chr&gt; | ksads_5_906_p &lt;dbl&gt; | ksads_5_907_p &lt;dbl&gt; | ksads_5_857_p &lt;dbl&gt; | ksads_5_858_p &lt;dbl&gt; | ksads_6_908_p &lt;dbl&gt; | ksads_6_859_p &lt;dbl&gt; | ksads_6_860_p &lt;dbl&gt; | ksads_7_861_p &lt;dbl&gt; | ksads_7_862_p &lt;dbl&gt; | ⋯ ⋯ | ksads_7_910_p &lt;dbl&gt; | ksads_8_863_p &lt;dbl&gt; | ksads_8_864_p &lt;dbl&gt; | ksads_8_911_p &lt;dbl&gt; | ksads_8_912_p &lt;dbl&gt; | ksads_10_913_p &lt;dbl&gt; | ksads_10_914_p &lt;dbl&gt; | ksads_10_869_p &lt;dbl&gt; | ksads_10_870_p &lt;dbl&gt; | LT &lt;dbl&gt; |\n",
       "|---|---|---|---|---|---|---|---|---|---|---|---|---|---|---|---|---|---|---|---|---|---|\n",
       "| 3 | NDAR_INV005V6D2C | 0 | 0 | 0 | 0 | 0 | 0 | 0 | 0 | 0 | ⋯ | 0 | 0 | 0 | 0 | 0 | 0 | 0 | 0 | 0 | 0 |\n",
       "| 4 | NDAR_INV019DXLU4 | 0 | 0 | 0 | 0 | 0 | 0 | 0 | 0 | 0 | ⋯ | 0 | 0 | 0 | 0 | 0 | 0 | 0 | 0 | 0 | 0 |\n",
       "| 5 | NDAR_INV00HEV6HB | 0 | 0 | 0 | 0 | 0 | 0 | 0 | 0 | 0 | ⋯ | 0 | 0 | 0 | 0 | 0 | 0 | 0 | 0 | 0 | 0 |\n",
       "| 6 | NDAR_INV00J52GPG | 0 | 0 | 0 | 0 | 0 | 0 | 0 | 0 | 0 | ⋯ | 0 | 0 | 0 | 0 | 0 | 0 | 0 | 0 | 0 | 0 |\n",
       "| 10 | NDAR_INV01EN91PG | 0 | 0 | 0 | 0 | 0 | 0 | 0 | 0 | 0 | ⋯ | 0 | 0 | 0 | 0 | 1 | 0 | 0 | 0 | 0 | 1 |\n",
       "| 11 | NDAR_INV01RGTWD2 | 0 | 0 | 0 | 0 | 0 | 0 | 0 | 0 | 0 | ⋯ | 0 | 0 | 0 | 0 | 0 | 0 | 0 | 0 | 0 | 0 |\n",
       "\n"
      ],
      "text/plain": [
       "   subjectkey       ksads_5_906_p ksads_5_907_p ksads_5_857_p ksads_5_858_p\n",
       "3  NDAR_INV005V6D2C 0             0             0             0            \n",
       "4  NDAR_INV019DXLU4 0             0             0             0            \n",
       "5  NDAR_INV00HEV6HB 0             0             0             0            \n",
       "6  NDAR_INV00J52GPG 0             0             0             0            \n",
       "10 NDAR_INV01EN91PG 0             0             0             0            \n",
       "11 NDAR_INV01RGTWD2 0             0             0             0            \n",
       "   ksads_6_908_p ksads_6_859_p ksads_6_860_p ksads_7_861_p ksads_7_862_p ⋯\n",
       "3  0             0             0             0             0             ⋯\n",
       "4  0             0             0             0             0             ⋯\n",
       "5  0             0             0             0             0             ⋯\n",
       "6  0             0             0             0             0             ⋯\n",
       "10 0             0             0             0             0             ⋯\n",
       "11 0             0             0             0             0             ⋯\n",
       "   ksads_7_910_p ksads_8_863_p ksads_8_864_p ksads_8_911_p ksads_8_912_p\n",
       "3  0             0             0             0             0            \n",
       "4  0             0             0             0             0            \n",
       "5  0             0             0             0             0            \n",
       "6  0             0             0             0             0            \n",
       "10 0             0             0             0             1            \n",
       "11 0             0             0             0             0            \n",
       "   ksads_10_913_p ksads_10_914_p ksads_10_869_p ksads_10_870_p LT\n",
       "3  0              0              0              0              0 \n",
       "4  0              0              0              0              0 \n",
       "5  0              0              0              0              0 \n",
       "6  0              0              0              0              0 \n",
       "10 0              0              0              0              1 \n",
       "11 0              0              0              0              0 "
      ]
     },
     "metadata": {},
     "output_type": "display_data"
    }
   ],
   "source": [
    "#Lifetime Anxiety: Panic, Agoraphobia, Separation, Social, Generalized#\n",
    "Anx <- select(ksads,subjectkey,ksads_5_906_p,ksads_5_907_p,ksads_5_857_p,ksads_5_858_p,ksads_6_908_p,ksads_6_859_p,ksads_6_860_p,\n",
    "            ksads_7_861_p, ksads_7_862_p,ksads_7_909_p,ksads_7_910_p,ksads_8_863_p,ksads_8_864_p,ksads_8_911_p,ksads_8_912_p,\n",
    "            ksads_10_913_p,ksads_10_914_p,ksads_10_869_p,ksads_10_870_p)\n",
    "Anx[2:20] <- sapply(Anx[2:20],as.numeric)\n",
    "Anx$LT <- apply(Anx[,-1], FUN = max, MARGIN = 1, na.rm = TRUE)\n",
    "head(Anx)"
   ]
  },
  {
   "cell_type": "code",
   "execution_count": 7,
   "id": "sitting-customer",
   "metadata": {},
   "outputs": [
    {
     "data": {
      "text/html": [
       "<table class=\"dataframe\">\n",
       "<caption>A data.frame: 6 × 4</caption>\n",
       "<thead>\n",
       "\t<tr><th></th><th scope=col>subjectkey</th><th scope=col>ksads_9_867_p</th><th scope=col>ksads_9_868_p</th><th scope=col>LT</th></tr>\n",
       "\t<tr><th></th><th scope=col>&lt;chr&gt;</th><th scope=col>&lt;dbl&gt;</th><th scope=col>&lt;dbl&gt;</th><th scope=col>&lt;dbl&gt;</th></tr>\n",
       "</thead>\n",
       "<tbody>\n",
       "\t<tr><th scope=row>3</th><td>NDAR_INV005V6D2C</td><td>0</td><td>0</td><td>0</td></tr>\n",
       "\t<tr><th scope=row>4</th><td>NDAR_INV019DXLU4</td><td>0</td><td>1</td><td>1</td></tr>\n",
       "\t<tr><th scope=row>5</th><td>NDAR_INV00HEV6HB</td><td>0</td><td>0</td><td>0</td></tr>\n",
       "\t<tr><th scope=row>6</th><td>NDAR_INV00J52GPG</td><td>0</td><td>0</td><td>0</td></tr>\n",
       "\t<tr><th scope=row>10</th><td>NDAR_INV01EN91PG</td><td>0</td><td>0</td><td>0</td></tr>\n",
       "\t<tr><th scope=row>11</th><td>NDAR_INV01RGTWD2</td><td>0</td><td>0</td><td>0</td></tr>\n",
       "</tbody>\n",
       "</table>\n"
      ],
      "text/latex": [
       "A data.frame: 6 × 4\n",
       "\\begin{tabular}{r|llll}\n",
       "  & subjectkey & ksads\\_9\\_867\\_p & ksads\\_9\\_868\\_p & LT\\\\\n",
       "  & <chr> & <dbl> & <dbl> & <dbl>\\\\\n",
       "\\hline\n",
       "\t3 & NDAR\\_INV005V6D2C & 0 & 0 & 0\\\\\n",
       "\t4 & NDAR\\_INV019DXLU4 & 0 & 1 & 1\\\\\n",
       "\t5 & NDAR\\_INV00HEV6HB & 0 & 0 & 0\\\\\n",
       "\t6 & NDAR\\_INV00J52GPG & 0 & 0 & 0\\\\\n",
       "\t10 & NDAR\\_INV01EN91PG & 0 & 0 & 0\\\\\n",
       "\t11 & NDAR\\_INV01RGTWD2 & 0 & 0 & 0\\\\\n",
       "\\end{tabular}\n"
      ],
      "text/markdown": [
       "\n",
       "A data.frame: 6 × 4\n",
       "\n",
       "| <!--/--> | subjectkey &lt;chr&gt; | ksads_9_867_p &lt;dbl&gt; | ksads_9_868_p &lt;dbl&gt; | LT &lt;dbl&gt; |\n",
       "|---|---|---|---|---|\n",
       "| 3 | NDAR_INV005V6D2C | 0 | 0 | 0 |\n",
       "| 4 | NDAR_INV019DXLU4 | 0 | 1 | 1 |\n",
       "| 5 | NDAR_INV00HEV6HB | 0 | 0 | 0 |\n",
       "| 6 | NDAR_INV00J52GPG | 0 | 0 | 0 |\n",
       "| 10 | NDAR_INV01EN91PG | 0 | 0 | 0 |\n",
       "| 11 | NDAR_INV01RGTWD2 | 0 | 0 | 0 |\n",
       "\n"
      ],
      "text/plain": [
       "   subjectkey       ksads_9_867_p ksads_9_868_p LT\n",
       "3  NDAR_INV005V6D2C 0             0             0 \n",
       "4  NDAR_INV019DXLU4 0             1             1 \n",
       "5  NDAR_INV00HEV6HB 0             0             0 \n",
       "6  NDAR_INV00J52GPG 0             0             0 \n",
       "10 NDAR_INV01EN91PG 0             0             0 \n",
       "11 NDAR_INV01RGTWD2 0             0             0 "
      ]
     },
     "metadata": {},
     "output_type": "display_data"
    }
   ],
   "source": [
    "#Lifetime Specific Phobia#\n",
    "Phb <- select(ksads,subjectkey,ksads_9_867_p,ksads_9_868_p)\n",
    "Phb[2:3] <- sapply(Phb[2:3],as.numeric)\n",
    "Phb$LT <- apply(Phb[,-1], FUN = max, MARGIN = 1, na.rm = TRUE)\n",
    "head(Phb)"
   ]
  },
  {
   "cell_type": "code",
   "execution_count": 13,
   "id": "decent-taxation",
   "metadata": {},
   "outputs": [
    {
     "data": {
      "text/html": [
       "<table class=\"dataframe\">\n",
       "<caption>A data.frame: 6 × 6</caption>\n",
       "<thead>\n",
       "\t<tr><th></th><th scope=col>subjectkey</th><th scope=col>ksads_11_917_p</th><th scope=col>ksads_11_918_p</th><th scope=col>ksads_11_919_p</th><th scope=col>ksads_11_920_p</th><th scope=col>LT</th></tr>\n",
       "\t<tr><th></th><th scope=col>&lt;chr&gt;</th><th scope=col>&lt;dbl&gt;</th><th scope=col>&lt;dbl&gt;</th><th scope=col>&lt;dbl&gt;</th><th scope=col>&lt;dbl&gt;</th><th scope=col>&lt;dbl&gt;</th></tr>\n",
       "</thead>\n",
       "<tbody>\n",
       "\t<tr><th scope=row>3</th><td>NDAR_INV005V6D2C</td><td>0</td><td>0</td><td>0</td><td>0</td><td>0</td></tr>\n",
       "\t<tr><th scope=row>4</th><td>NDAR_INV019DXLU4</td><td>1</td><td>0</td><td>0</td><td>0</td><td>1</td></tr>\n",
       "\t<tr><th scope=row>5</th><td>NDAR_INV00HEV6HB</td><td>0</td><td>0</td><td>0</td><td>0</td><td>0</td></tr>\n",
       "\t<tr><th scope=row>6</th><td>NDAR_INV00J52GPG</td><td>0</td><td>0</td><td>0</td><td>0</td><td>0</td></tr>\n",
       "\t<tr><th scope=row>10</th><td>NDAR_INV01EN91PG</td><td>0</td><td>0</td><td>0</td><td>0</td><td>0</td></tr>\n",
       "\t<tr><th scope=row>11</th><td>NDAR_INV01RGTWD2</td><td>0</td><td>0</td><td>0</td><td>0</td><td>0</td></tr>\n",
       "</tbody>\n",
       "</table>\n"
      ],
      "text/latex": [
       "A data.frame: 6 × 6\n",
       "\\begin{tabular}{r|llllll}\n",
       "  & subjectkey & ksads\\_11\\_917\\_p & ksads\\_11\\_918\\_p & ksads\\_11\\_919\\_p & ksads\\_11\\_920\\_p & LT\\\\\n",
       "  & <chr> & <dbl> & <dbl> & <dbl> & <dbl> & <dbl>\\\\\n",
       "\\hline\n",
       "\t3 & NDAR\\_INV005V6D2C & 0 & 0 & 0 & 0 & 0\\\\\n",
       "\t4 & NDAR\\_INV019DXLU4 & 1 & 0 & 0 & 0 & 1\\\\\n",
       "\t5 & NDAR\\_INV00HEV6HB & 0 & 0 & 0 & 0 & 0\\\\\n",
       "\t6 & NDAR\\_INV00J52GPG & 0 & 0 & 0 & 0 & 0\\\\\n",
       "\t10 & NDAR\\_INV01EN91PG & 0 & 0 & 0 & 0 & 0\\\\\n",
       "\t11 & NDAR\\_INV01RGTWD2 & 0 & 0 & 0 & 0 & 0\\\\\n",
       "\\end{tabular}\n"
      ],
      "text/markdown": [
       "\n",
       "A data.frame: 6 × 6\n",
       "\n",
       "| <!--/--> | subjectkey &lt;chr&gt; | ksads_11_917_p &lt;dbl&gt; | ksads_11_918_p &lt;dbl&gt; | ksads_11_919_p &lt;dbl&gt; | ksads_11_920_p &lt;dbl&gt; | LT &lt;dbl&gt; |\n",
       "|---|---|---|---|---|---|---|\n",
       "| 3 | NDAR_INV005V6D2C | 0 | 0 | 0 | 0 | 0 |\n",
       "| 4 | NDAR_INV019DXLU4 | 1 | 0 | 0 | 0 | 1 |\n",
       "| 5 | NDAR_INV00HEV6HB | 0 | 0 | 0 | 0 | 0 |\n",
       "| 6 | NDAR_INV00J52GPG | 0 | 0 | 0 | 0 | 0 |\n",
       "| 10 | NDAR_INV01EN91PG | 0 | 0 | 0 | 0 | 0 |\n",
       "| 11 | NDAR_INV01RGTWD2 | 0 | 0 | 0 | 0 | 0 |\n",
       "\n"
      ],
      "text/plain": [
       "   subjectkey       ksads_11_917_p ksads_11_918_p ksads_11_919_p ksads_11_920_p\n",
       "3  NDAR_INV005V6D2C 0              0              0              0             \n",
       "4  NDAR_INV019DXLU4 1              0              0              0             \n",
       "5  NDAR_INV00HEV6HB 0              0              0              0             \n",
       "6  NDAR_INV00J52GPG 0              0              0              0             \n",
       "10 NDAR_INV01EN91PG 0              0              0              0             \n",
       "11 NDAR_INV01RGTWD2 0              0              0              0             \n",
       "   LT\n",
       "3  0 \n",
       "4  1 \n",
       "5  0 \n",
       "6  0 \n",
       "10 0 \n",
       "11 0 "
      ]
     },
     "metadata": {},
     "output_type": "display_data"
    }
   ],
   "source": [
    "#Lifetime OCD#\n",
    "OCD <- select(ksads,subjectkey,ksads_11_917_p,ksads_11_918_p,ksads_11_919_p,ksads_11_920_p)\n",
    "OCD[2:5] <- sapply(OCD[2:5],as.numeric)\n",
    "OCD$LT <- apply(OCD[,-1], FUN = max, MARGIN = 1, na.rm = TRUE)\n",
    "head(OCD)"
   ]
  },
  {
   "cell_type": "code",
   "execution_count": 14,
   "id": "level-english",
   "metadata": {},
   "outputs": [
    {
     "data": {
      "text/html": [
       "<table class=\"dataframe\">\n",
       "<caption>A data.frame: 6 × 6</caption>\n",
       "<thead>\n",
       "\t<tr><th></th><th scope=col>subjectkey</th><th scope=col>ksads_14_853_p</th><th scope=col>ksads_14_854_p</th><th scope=col>ksads_14_855_p</th><th scope=col>ksads_14_856_p</th><th scope=col>LT</th></tr>\n",
       "\t<tr><th></th><th scope=col>&lt;chr&gt;</th><th scope=col>&lt;dbl&gt;</th><th scope=col>&lt;dbl&gt;</th><th scope=col>&lt;dbl&gt;</th><th scope=col>&lt;dbl&gt;</th><th scope=col>&lt;dbl&gt;</th></tr>\n",
       "</thead>\n",
       "<tbody>\n",
       "\t<tr><th scope=row>3</th><td>NDAR_INV005V6D2C</td><td>0</td><td>0</td><td>0</td><td>0</td><td>0</td></tr>\n",
       "\t<tr><th scope=row>4</th><td>NDAR_INV019DXLU4</td><td>0</td><td>0</td><td>0</td><td>1</td><td>1</td></tr>\n",
       "\t<tr><th scope=row>5</th><td>NDAR_INV00HEV6HB</td><td>0</td><td>0</td><td>0</td><td>0</td><td>0</td></tr>\n",
       "\t<tr><th scope=row>6</th><td>NDAR_INV00J52GPG</td><td>0</td><td>0</td><td>0</td><td>0</td><td>0</td></tr>\n",
       "\t<tr><th scope=row>10</th><td>NDAR_INV01EN91PG</td><td>0</td><td>0</td><td>0</td><td>0</td><td>0</td></tr>\n",
       "\t<tr><th scope=row>11</th><td>NDAR_INV01RGTWD2</td><td>0</td><td>0</td><td>0</td><td>0</td><td>0</td></tr>\n",
       "</tbody>\n",
       "</table>\n"
      ],
      "text/latex": [
       "A data.frame: 6 × 6\n",
       "\\begin{tabular}{r|llllll}\n",
       "  & subjectkey & ksads\\_14\\_853\\_p & ksads\\_14\\_854\\_p & ksads\\_14\\_855\\_p & ksads\\_14\\_856\\_p & LT\\\\\n",
       "  & <chr> & <dbl> & <dbl> & <dbl> & <dbl> & <dbl>\\\\\n",
       "\\hline\n",
       "\t3 & NDAR\\_INV005V6D2C & 0 & 0 & 0 & 0 & 0\\\\\n",
       "\t4 & NDAR\\_INV019DXLU4 & 0 & 0 & 0 & 1 & 1\\\\\n",
       "\t5 & NDAR\\_INV00HEV6HB & 0 & 0 & 0 & 0 & 0\\\\\n",
       "\t6 & NDAR\\_INV00J52GPG & 0 & 0 & 0 & 0 & 0\\\\\n",
       "\t10 & NDAR\\_INV01EN91PG & 0 & 0 & 0 & 0 & 0\\\\\n",
       "\t11 & NDAR\\_INV01RGTWD2 & 0 & 0 & 0 & 0 & 0\\\\\n",
       "\\end{tabular}\n"
      ],
      "text/markdown": [
       "\n",
       "A data.frame: 6 × 6\n",
       "\n",
       "| <!--/--> | subjectkey &lt;chr&gt; | ksads_14_853_p &lt;dbl&gt; | ksads_14_854_p &lt;dbl&gt; | ksads_14_855_p &lt;dbl&gt; | ksads_14_856_p &lt;dbl&gt; | LT &lt;dbl&gt; |\n",
       "|---|---|---|---|---|---|---|\n",
       "| 3 | NDAR_INV005V6D2C | 0 | 0 | 0 | 0 | 0 |\n",
       "| 4 | NDAR_INV019DXLU4 | 0 | 0 | 0 | 1 | 1 |\n",
       "| 5 | NDAR_INV00HEV6HB | 0 | 0 | 0 | 0 | 0 |\n",
       "| 6 | NDAR_INV00J52GPG | 0 | 0 | 0 | 0 | 0 |\n",
       "| 10 | NDAR_INV01EN91PG | 0 | 0 | 0 | 0 | 0 |\n",
       "| 11 | NDAR_INV01RGTWD2 | 0 | 0 | 0 | 0 | 0 |\n",
       "\n"
      ],
      "text/plain": [
       "   subjectkey       ksads_14_853_p ksads_14_854_p ksads_14_855_p ksads_14_856_p\n",
       "3  NDAR_INV005V6D2C 0              0              0              0             \n",
       "4  NDAR_INV019DXLU4 0              0              0              1             \n",
       "5  NDAR_INV00HEV6HB 0              0              0              0             \n",
       "6  NDAR_INV00J52GPG 0              0              0              0             \n",
       "10 NDAR_INV01EN91PG 0              0              0              0             \n",
       "11 NDAR_INV01RGTWD2 0              0              0              0             \n",
       "   LT\n",
       "3  0 \n",
       "4  1 \n",
       "5  0 \n",
       "6  0 \n",
       "10 0 \n",
       "11 0 "
      ]
     },
     "metadata": {},
     "output_type": "display_data"
    }
   ],
   "source": [
    "#Lifetime ADHD#\n",
    "ADHD <- select(ksads,subjectkey,ksads_14_853_p,ksads_14_854_p,ksads_14_855_p,ksads_14_856_p)\n",
    "ADHD[2:5] <- sapply(ADHD[2:5],as.numeric)\n",
    "ADHD$LT <- apply(ADHD[,-1], FUN = max, MARGIN = 1, na.rm = TRUE)\n",
    "head(ADHD)"
   ]
  },
  {
   "cell_type": "code",
   "execution_count": null,
   "id": "continued-jackson",
   "metadata": {},
   "outputs": [],
   "source": [
    "#Disorders left out: Behavioral disorders (oppositional defiant, conduct, DMDD), Eating disorders, psychosis disorders, Tic disorder, \n",
    "#Other Neurodevelopmental disorders, PTSD, Suicide, NSSI#"
   ]
  }
 ],
 "metadata": {
  "kernelspec": {
   "display_name": "R",
   "language": "R",
   "name": "ir"
  },
  "language_info": {
   "codemirror_mode": "r",
   "file_extension": ".r",
   "mimetype": "text/x-r-source",
   "name": "R",
   "pygments_lexer": "r",
   "version": "4.0.3"
  }
 },
 "nbformat": 4,
 "nbformat_minor": 5
}
